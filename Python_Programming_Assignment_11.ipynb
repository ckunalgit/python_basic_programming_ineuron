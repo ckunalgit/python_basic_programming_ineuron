{
 "cells": [
  {
   "cell_type": "markdown",
   "id": "f5b272c1",
   "metadata": {},
   "source": [
    "# Python_Programming_Assignment : Assignment_11"
   ]
  },
  {
   "cell_type": "markdown",
   "id": "ecff79f8",
   "metadata": {},
   "source": [
    "### All assignment questions are solved in a single class"
   ]
  },
  {
   "cell_type": "code",
   "execution_count": 39,
   "id": "7e4e56b0",
   "metadata": {},
   "outputs": [],
   "source": [
    "class assignment_11_str1:\n",
    "    \n",
    "    def __init__(self,val):\n",
    "        \n",
    "        \"\"\"This initializes the class\"\"\"\n",
    "        \n",
    "        if type(val) != list:\n",
    "            raise Exception('Please provide strings within a list')\n",
    "        else:\n",
    "            self.val = val\n",
    "    \n",
    "    def program_1(self,k):\n",
    "        \n",
    "        \"\"\"This returns words which are more than a given length k\"\"\"\n",
    "        \n",
    "        l = []\n",
    "        for i in self.val:\n",
    "            if len(i) > k:\n",
    "                l.append(i)\n",
    "                \n",
    "        return l\n",
    "    \n",
    "       \n",
    "class assignment_11_str2:\n",
    "    \n",
    "    def __init__(self,val):\n",
    "        \n",
    "        \"\"\"This initializes the class\"\"\"\n",
    "        \n",
    "        if type(val) != str:\n",
    "            raise Exception('Please provide string input only')\n",
    "        else:\n",
    "            self.val = val\n",
    "            \n",
    "    \n",
    "    def program_2(self,i):\n",
    "        \n",
    "        \"\"\"This removes the i-th character from a string\"\"\"\n",
    "        \n",
    "        r = self.val[i]\n",
    "        return self.val.replace(r,'')\n",
    "    \n",
    "    def program_3(self,i):\n",
    "        \n",
    "        \"\"\"This splits a string based on a given element\"\"\"\n",
    "        \n",
    "        return self.val.split(i)\n",
    "    \n",
    "    def program_3_extn(self):\n",
    "        \n",
    "        \"\"\"This joins the strings previously separated\"\"\"\n",
    "        \n",
    "        c = self.program_3('a')\n",
    "        return ''.join(c)\n",
    "    \n",
    "    def program_4(self):\n",
    "        \n",
    "        \"\"\"This checks if a string is binary or not\"\"\"\n",
    "        \n",
    "        s1 = set(self.val)\n",
    "        s2 = {'0','1'}\n",
    "        \n",
    "        if s1 == s2:\n",
    "            return ('Binary string')\n",
    "        else:\n",
    "            return ('Non binary string')\n",
    "        \n",
    "    \n",
    "    def program_6(self):\n",
    "        \n",
    "        \"\"\"This checks for dupes in a string\"\"\"\n",
    "        \n",
    "        l = [] #empty list to add the duplicate elements from string\n",
    "        \n",
    "        for i in self.val:\n",
    "            if self.val.count(i) > 1:\n",
    "                l.append(i)\n",
    "        \n",
    "        return l\n",
    "    \n",
    "    def program_7(self):\n",
    "        \n",
    "        \"\"\"This checks for special characters in string\"\"\"\n",
    "        \n",
    "        import re\n",
    "        \n",
    "        spc = re.compile('[@_!#$%^&*()<>?/\\|}{~:]')\n",
    "        if spc.search(self.val) == None:\n",
    "            return ('No special characters')\n",
    "        else:\n",
    "            return('This string has special characters')\n",
    "\n",
    "class assignment_11_str3:\n",
    "    \n",
    "    def __init__(self,val1,val2):\n",
    "        \n",
    "        \"\"\"This initializes the class\"\"\"\n",
    "        \n",
    "        if type(val1) == str and type(val2) == str:\n",
    "            self.val1 = val1\n",
    "            self.val2 = val2\n",
    "        else:\n",
    "            raise Exception('Please input only string values')\n",
    "            \n",
    "    def program_5(self):\n",
    "        \n",
    "        \"\"\"This checks for uncommon words between 2 strings\"\"\"\n",
    "        \n",
    "        c = self.val1+self.val2\n",
    "\n",
    "        for i in self.val1: ## H E L L O\n",
    "            for j in self.val2: ## W O R L D\n",
    "                if i==j:\n",
    "                    c = c.replace(j,'')\n",
    "        \n",
    "        return list(c)\n"
   ]
  },
  {
   "cell_type": "markdown",
   "id": "0c1c1048",
   "metadata": {},
   "source": [
    "### 1.\tWrite a Python program to find words which are greater than given length k?"
   ]
  },
  {
   "cell_type": "code",
   "execution_count": 52,
   "id": "69e1bde1",
   "metadata": {},
   "outputs": [],
   "source": [
    "a = assignment_11_str1(['Hello','World','Programming','Assignments','Nobel','Steed'])"
   ]
  },
  {
   "cell_type": "code",
   "execution_count": 53,
   "id": "f4d2614c",
   "metadata": {},
   "outputs": [
    {
     "data": {
      "text/plain": [
       "['Programming', 'Assignments']"
      ]
     },
     "execution_count": 53,
     "metadata": {},
     "output_type": "execute_result"
    }
   ],
   "source": [
    "a.program_1(5)"
   ]
  },
  {
   "cell_type": "markdown",
   "id": "5d95ead9",
   "metadata": {},
   "source": [
    "### 2.\tWrite a Python program for removing i-th character from a string?"
   ]
  },
  {
   "cell_type": "code",
   "execution_count": 54,
   "id": "99309472",
   "metadata": {},
   "outputs": [],
   "source": [
    "b = assignment_11_str2('Paradoxical')"
   ]
  },
  {
   "cell_type": "code",
   "execution_count": 55,
   "id": "71f5c20b",
   "metadata": {},
   "outputs": [
    {
     "data": {
      "text/plain": [
       "'Paadoxical'"
      ]
     },
     "execution_count": 55,
     "metadata": {},
     "output_type": "execute_result"
    }
   ],
   "source": [
    "b.program_2(2)"
   ]
  },
  {
   "cell_type": "markdown",
   "id": "bb480e1a",
   "metadata": {},
   "source": [
    "### 3.\tWrite a Python program to split and join a string?"
   ]
  },
  {
   "cell_type": "code",
   "execution_count": 56,
   "id": "b1ffa13e",
   "metadata": {},
   "outputs": [
    {
     "data": {
      "text/plain": [
       "['P', 'r', 'doxic', 'l']"
      ]
     },
     "execution_count": 56,
     "metadata": {},
     "output_type": "execute_result"
    }
   ],
   "source": [
    "b.program_3('a')"
   ]
  },
  {
   "cell_type": "code",
   "execution_count": 57,
   "id": "f3a6df27",
   "metadata": {},
   "outputs": [
    {
     "data": {
      "text/plain": [
       "'Prdoxicl'"
      ]
     },
     "execution_count": 57,
     "metadata": {},
     "output_type": "execute_result"
    }
   ],
   "source": [
    "b.program_3_extn()"
   ]
  },
  {
   "cell_type": "markdown",
   "id": "04a7db64",
   "metadata": {},
   "source": [
    "### 4.\tWrite a Python to check if a given string is binary string or not?"
   ]
  },
  {
   "cell_type": "code",
   "execution_count": 33,
   "id": "01adae96",
   "metadata": {},
   "outputs": [],
   "source": [
    "c = assignment_11_str2('01001010111')"
   ]
  },
  {
   "cell_type": "code",
   "execution_count": 59,
   "id": "0903a5ff",
   "metadata": {},
   "outputs": [
    {
     "data": {
      "text/plain": [
       "'Binary string'"
      ]
     },
     "execution_count": 59,
     "metadata": {},
     "output_type": "execute_result"
    }
   ],
   "source": [
    "c.program_4()"
   ]
  },
  {
   "cell_type": "code",
   "execution_count": 60,
   "id": "08bcb2a0",
   "metadata": {},
   "outputs": [],
   "source": [
    "c = assignment_11_str2('01101102203')"
   ]
  },
  {
   "cell_type": "code",
   "execution_count": 61,
   "id": "66b225a5",
   "metadata": {},
   "outputs": [
    {
     "data": {
      "text/plain": [
       "'Non binary string'"
      ]
     },
     "execution_count": 61,
     "metadata": {},
     "output_type": "execute_result"
    }
   ],
   "source": [
    "c.program_4()"
   ]
  },
  {
   "cell_type": "markdown",
   "id": "0dd08da2",
   "metadata": {},
   "source": [
    "### 5.\tWrite a Python program to find uncommon words from two Strings?"
   ]
  },
  {
   "cell_type": "code",
   "execution_count": 24,
   "id": "b10abc25",
   "metadata": {},
   "outputs": [],
   "source": [
    "d = assignment_11_str3('ABCD','CDEF')"
   ]
  },
  {
   "cell_type": "code",
   "execution_count": 25,
   "id": "ca6c4788",
   "metadata": {},
   "outputs": [
    {
     "data": {
      "text/plain": [
       "['A', 'B', 'E', 'F']"
      ]
     },
     "execution_count": 25,
     "metadata": {},
     "output_type": "execute_result"
    }
   ],
   "source": [
    "d.program_5()"
   ]
  },
  {
   "cell_type": "markdown",
   "id": "97c20283",
   "metadata": {},
   "source": [
    "### 6.\tWrite a Python to find all duplicate characters in string?"
   ]
  },
  {
   "cell_type": "code",
   "execution_count": 35,
   "id": "60ccf265",
   "metadata": {},
   "outputs": [],
   "source": [
    "c = assignment_11_str2('ABCCDDEF')"
   ]
  },
  {
   "cell_type": "code",
   "execution_count": 36,
   "id": "671fca9f",
   "metadata": {},
   "outputs": [
    {
     "data": {
      "text/plain": [
       "['C', 'C', 'D', 'D']"
      ]
     },
     "execution_count": 36,
     "metadata": {},
     "output_type": "execute_result"
    }
   ],
   "source": [
    "c.program_6()"
   ]
  },
  {
   "cell_type": "markdown",
   "id": "a125e7a3",
   "metadata": {},
   "source": [
    "### 7.\tWrite a Python Program to check if a string contains any special character?"
   ]
  },
  {
   "cell_type": "code",
   "execution_count": 40,
   "id": "32afcb3d",
   "metadata": {},
   "outputs": [],
   "source": [
    "e = assignment_11_str2('support@iNeuron.com')"
   ]
  },
  {
   "cell_type": "code",
   "execution_count": 41,
   "id": "359b664c",
   "metadata": {},
   "outputs": [
    {
     "data": {
      "text/plain": [
       "'This string has special characters'"
      ]
     },
     "execution_count": 41,
     "metadata": {},
     "output_type": "execute_result"
    }
   ],
   "source": [
    "e.program_7()"
   ]
  },
  {
   "cell_type": "code",
   "execution_count": 42,
   "id": "b7ebda2a",
   "metadata": {},
   "outputs": [],
   "source": [
    "f = assignment_11_str2('iNeuroncom')"
   ]
  },
  {
   "cell_type": "code",
   "execution_count": 43,
   "id": "546d80c9",
   "metadata": {},
   "outputs": [
    {
     "data": {
      "text/plain": [
       "'No special characters'"
      ]
     },
     "execution_count": 43,
     "metadata": {},
     "output_type": "execute_result"
    }
   ],
   "source": [
    "f.program_7()"
   ]
  }
 ],
 "metadata": {
  "kernelspec": {
   "display_name": "Python 3 (ipykernel)",
   "language": "python",
   "name": "python3"
  },
  "language_info": {
   "codemirror_mode": {
    "name": "ipython",
    "version": 3
   },
   "file_extension": ".py",
   "mimetype": "text/x-python",
   "name": "python",
   "nbconvert_exporter": "python",
   "pygments_lexer": "ipython3",
   "version": "3.9.7"
  }
 },
 "nbformat": 4,
 "nbformat_minor": 5
}

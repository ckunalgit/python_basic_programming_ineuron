{
 "cells": [
  {
   "cell_type": "markdown",
   "id": "1c26743d",
   "metadata": {},
   "source": [
    "# Python_Programming_Assignment : Assignment_15"
   ]
  },
  {
   "cell_type": "code",
   "execution_count": 1,
   "id": "60d39e5e",
   "metadata": {},
   "outputs": [
    {
     "data": {
      "text/html": [
       "<style type='text/css'>\n",
       ".CodeMirror{\n",
       "font-size: 13px;\n",
       "font-family: Verdana;\n",
       "</style>\n"
      ],
      "text/plain": [
       "<IPython.core.display.HTML object>"
      ]
     },
     "metadata": {},
     "output_type": "display_data"
    }
   ],
   "source": [
    "%%html\n",
    "<style type='text/css'>\n",
    ".CodeMirror{\n",
    "font-size: 13px;\n",
    "font-family: Verdana;\n",
    "</style>"
   ]
  },
  {
   "cell_type": "markdown",
   "id": "9c8b139c",
   "metadata": {},
   "source": [
    "### Please write a program using generator to print the numbers which can be divisible by 5 and 7 between 0 and n in comma separated form while n is input by console."
   ]
  },
  {
   "cell_type": "code",
   "execution_count": 23,
   "id": "5d73b5c1",
   "metadata": {},
   "outputs": [
    {
     "name": "stdout",
     "output_type": "stream",
     "text": [
      "Enter max range for search: 100\n",
      "0,35,70\n"
     ]
    }
   ],
   "source": [
    "# Take input from user console\n",
    "try:\n",
    "    n = int(input(\"Enter max range for search: \"))\n",
    "except ValueError:\n",
    "    print(\"Please enter valid integer value\")\n",
    "    \n",
    "def five_sevn(inpt):\n",
    "    '''This program finds numbers that are divisible by 5 and 7 within a range'''\n",
    "    \n",
    "    for i in range(inpt+1):\n",
    "        if i%5 == 0 and i%7==0:\n",
    "            yield i # Generate the object if divisble by both 5 and 7\n",
    "\n",
    "# Convert each element from the generator to print in the specified format\n",
    "\n",
    "lst = [str(element) for element in five_sevn(n)]\n",
    "print(\",\".join(lst))\n",
    "\n"
   ]
  },
  {
   "cell_type": "markdown",
   "id": "f58c06ca",
   "metadata": {},
   "source": [
    "### Please write a program using generator to print the even numbers between 0 and n in comma separated form while n is input by console."
   ]
  },
  {
   "cell_type": "code",
   "execution_count": 24,
   "id": "3a604e5f",
   "metadata": {},
   "outputs": [
    {
     "name": "stdout",
     "output_type": "stream",
     "text": [
      "Enter max range for search: 10\n",
      "0,2,4,6,8,10\n"
     ]
    }
   ],
   "source": [
    "# Take input from user console\n",
    "try:\n",
    "    n = int(input(\"Enter max range for search: \"))\n",
    "except ValueError:\n",
    "    print(\"Please enter valid integer value\")\n",
    "    \n",
    "def evnnos(inpt):\n",
    "    '''This function prints even numbers between 0 and a range'''\n",
    "    \n",
    "    for i in range(inpt+1):\n",
    "        if i%2 == 0:\n",
    "            yield i\n",
    "\n",
    "lst = [str(element) for element in evnnos(n)]\n",
    "print(\",\".join(lst))"
   ]
  },
  {
   "cell_type": "markdown",
   "id": "e7263dfa",
   "metadata": {},
   "source": [
    "### The Fibonacci Sequence is computed based on the following formula:"
   ]
  },
  {
   "cell_type": "markdown",
   "id": "6fb72f77",
   "metadata": {},
   "source": [
    "f(n)=0 if n=0\n",
    "f(n)=1 if n=1\n",
    "f(n)=f(n-1)+f(n-2) if n>1\n",
    "Please write a program using list comprehension to print the Fibonacci Sequence in comma separated form with a given n input by console."
   ]
  },
  {
   "cell_type": "code",
   "execution_count": 3,
   "id": "388816ad",
   "metadata": {},
   "outputs": [
    {
     "name": "stdout",
     "output_type": "stream",
     "text": [
      "Enter max range for Fibonacci: 7\n",
      "[1, 1, 2, 3, 5, 8, 13]\n"
     ]
    }
   ],
   "source": [
    "# Take input from user console\n",
    "try:\n",
    "    n = int(input(\"Enter max range for Fibonacci: \"))\n",
    "except ValueError:\n",
    "    print(\"Please enter valid integer value\")\n",
    "    \n",
    "def fibo_main(n):\n",
    "\n",
    "    def fibo_child():\n",
    "        \n",
    "        last = 1\n",
    "        curr = 1\n",
    "\n",
    "        if n == 0:\n",
    "            return\n",
    "        yield last\n",
    "\n",
    "        if n == 1:\n",
    "            return\n",
    "        yield curr\n",
    "\n",
    "        if n == 2:\n",
    "            return\n",
    "\n",
    "        ii = 2\n",
    "        while ii < n:\n",
    "            next = curr + last\n",
    "            yield next\n",
    "            last = curr\n",
    "            curr = next\n",
    "            ii += 1\n",
    "\n",
    "    return fibo_child()\n",
    "\n",
    "fib = [xx for xx in fibo_main(n)]\n",
    "print(fib)"
   ]
  },
  {
   "cell_type": "code",
   "execution_count": 1,
   "id": "6e36dbbc",
   "metadata": {},
   "outputs": [
    {
     "name": "stdout",
     "output_type": "stream",
     "text": [
      "[None, None, None, None, None, None, None]\n"
     ]
    }
   ],
   "source": [
    "inpt = 7\n",
    "lst = [0,1]\n",
    "val = [lst.append(lst[-2]+lst[-1]) for i in range(inpt)]\n",
    "print(val)"
   ]
  },
  {
   "cell_type": "markdown",
   "id": "9a34ba0c",
   "metadata": {},
   "source": [
    "### Assuming that we have some email addresses in the \"username@companyname.com\" format, please write program to print the user name of a given email address. Both user names and company names are composed of letters only."
   ]
  },
  {
   "cell_type": "code",
   "execution_count": 12,
   "id": "17b8c17f",
   "metadata": {},
   "outputs": [
    {
     "name": "stdout",
     "output_type": "stream",
     "text": [
      "Enter your email here: john@google.com\n",
      "The username is  john\n"
     ]
    }
   ],
   "source": [
    "email = input(\"Enter your email here: \")\n",
    "\n",
    "def username(email):\n",
    "    '''This function prints the username from a email address'''\n",
    "    \n",
    "    split = email.split('@')\n",
    "    count = 0 # Initialize this variable for checking inaccuracy of input\n",
    "    \n",
    "    # Check to see if username@companyname is in wrong format or not\n",
    "    \n",
    "    usrnm = list(split[0]) # This should be the username\n",
    "    \n",
    "    for letter in usrnm:\n",
    "        if ord(letter.lower()) >= 97 and ord(letter.lower()) <= 122:\n",
    "            continue\n",
    "        else:\n",
    "            count = 1\n",
    "            break\n",
    "    \n",
    "    companynm = list(split[1]) # This should be the companyname\n",
    "    \n",
    "    for letter in companynm:\n",
    "        if (ord(letter.lower()) >= 97 and ord(letter.lower()) <= 122) or ord(letter) == 46:              # Checks for dot in the company name\n",
    "            continue\n",
    "        else:\n",
    "            count = 1\n",
    "            break\n",
    "    \n",
    "    return (split[0],count)\n",
    "\n",
    "\n",
    "catch,count = username(email)\n",
    "\n",
    "if count == 1:\n",
    "    print(\"The given email is invalid. Please provide correct email\")\n",
    "else:\n",
    "    print('The username is ',catch)"
   ]
  },
  {
   "cell_type": "markdown",
   "id": "62121d8f",
   "metadata": {},
   "source": [
    "### Define a class named Shape and its subclass Square. The Square class has an init function which takes a length as argument. Both classes have a area function which can print the area of the shape where Shape's area is 0 by default."
   ]
  },
  {
   "cell_type": "code",
   "execution_count": 14,
   "id": "f6a55320",
   "metadata": {},
   "outputs": [
    {
     "name": "stdout",
     "output_type": "stream",
     "text": [
      "16\n"
     ]
    }
   ],
   "source": [
    "class Shape():\n",
    "    \n",
    "    def area(self):\n",
    "        return 0\n",
    "    \n",
    "class Square(Shape):\n",
    "    \n",
    "    def __init__(self,length):\n",
    "        self.length = length\n",
    "    \n",
    "    def area(self):\n",
    "        return (self.length * self.length)\n",
    "    \n",
    "obj = Square(4)\n",
    "print(obj.area())\n",
    "    "
   ]
  },
  {
   "cell_type": "code",
   "execution_count": null,
   "id": "280c712a",
   "metadata": {},
   "outputs": [],
   "source": []
  }
 ],
 "metadata": {
  "kernelspec": {
   "display_name": "Python 3 (ipykernel)",
   "language": "python",
   "name": "python3"
  },
  "language_info": {
   "codemirror_mode": {
    "name": "ipython",
    "version": 3
   },
   "file_extension": ".py",
   "mimetype": "text/x-python",
   "name": "python",
   "nbconvert_exporter": "python",
   "pygments_lexer": "ipython3",
   "version": "3.9.7"
  }
 },
 "nbformat": 4,
 "nbformat_minor": 5
}

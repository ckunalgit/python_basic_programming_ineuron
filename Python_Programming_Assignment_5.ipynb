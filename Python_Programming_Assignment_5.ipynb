{
 "cells": [
  {
   "cell_type": "markdown",
   "id": "52dd3a2e",
   "metadata": {},
   "source": [
    "# Python_Programming_Assignment : Assignment_5"
   ]
  },
  {
   "cell_type": "markdown",
   "id": "ff31b745",
   "metadata": {},
   "source": [
    "### Write a Python Program to Find LCM?\n"
   ]
  },
  {
   "cell_type": "code",
   "execution_count": null,
   "id": "6eb3ae52",
   "metadata": {},
   "outputs": [],
   "source": [
    "a = int(input('Enter 1st integer: '))\n",
    "b = int(input('Enter 2nd integer: '))\n",
    "\n",
    "def lcm(a,b):\n",
    "    '''This program calculates the LCM of 2 numbers'''\n",
    "    if a>b:\n",
    "        greater = a\n",
    "    else:\n",
    "        greater = b\n",
    "\n",
    "    while(True):\n",
    "        if((greater%a == 0) and (greater%b == 0)):\n",
    "            lcm = greater\n",
    "            break\n",
    "        greater += 1\n",
    "\n",
    "    return lcm\n",
    "\n",
    "lcm(a,b)"
   ]
  },
  {
   "cell_type": "markdown",
   "id": "2df7f830",
   "metadata": {},
   "source": [
    "### Write a Python Program to Find HCF?\n"
   ]
  },
  {
   "cell_type": "code",
   "execution_count": null,
   "id": "32f2005d",
   "metadata": {},
   "outputs": [],
   "source": [
    "a = int(input('Enter 1st integer: '))\n",
    "b = int(input('Enter 2nd integer: '))\n",
    "\n",
    "def hcf(a,b):\n",
    "    '''This program calculates the HCF of 2 numbers'''\n",
    "    \n",
    "    if a > b:\n",
    "        smaller = a\n",
    "    else:\n",
    "        smaller = b\n",
    "    for i in range(1,smaller + 1):\n",
    "        if((a % i == 0) and (b % i == 0)):\n",
    "            hcf = i\n",
    "    \n",
    "    return hcf\n",
    "\n",
    "hcf(a,b)"
   ]
  },
  {
   "cell_type": "markdown",
   "id": "87dc61b6",
   "metadata": {},
   "source": [
    "### Write a Python Program to Convert Decimal to Binary, Octal and Hexadecimal?\n"
   ]
  },
  {
   "cell_type": "code",
   "execution_count": 6,
   "id": "13898e24",
   "metadata": {},
   "outputs": [
    {
     "name": "stdout",
     "output_type": "stream",
     "text": [
      "Enter a decimal number: 45\n",
      "\n",
      "Decimal to Binary value is  101101\n"
     ]
    }
   ],
   "source": [
    "a = int(input('Enter a decimal number: '))\n",
    "\n",
    "def dec_to_bin(a):\n",
    "    '''This function converts a decimal value to Binary'''\n",
    "    \n",
    "    lst = []\n",
    "    b = a//2\n",
    "    while a != 1:\n",
    "        lst.append(a%2)\n",
    "        a = b\n",
    "        b = b//2\n",
    "\n",
    "    lst = [1] + lst[::-1]\n",
    "    return lst\n",
    "\n",
    "#for i in dec_to_oct(a):\n",
    "#    print(i,end = '')\n",
    "\n",
    "to_str = [str(i) for i in dec_to_bin(a)]\n",
    "to_str = ''.join(to_str)\n",
    "to_int = int(to_str)\n",
    "\n",
    "print('\\nDecimal to Binary value is ',to_int)"
   ]
  },
  {
   "cell_type": "code",
   "execution_count": 7,
   "id": "ec47e18c",
   "metadata": {},
   "outputs": [
    {
     "name": "stdout",
     "output_type": "stream",
     "text": [
      "Enter a decimal number: 350\n",
      "\n",
      "Decimal to Octal value is  536\n"
     ]
    }
   ],
   "source": [
    "a = int(input('Enter a decimal number: '))\n",
    "\n",
    "def dec_to_oct(a):\n",
    "    '''This function converts a decimal value to Octal'''\n",
    "    \n",
    "    lst = []\n",
    "    if a<8:\n",
    "        return a\n",
    "    else:\n",
    "        quotient = a\n",
    "        while quotient>=8:\n",
    "            lst.append(quotient%8)\n",
    "            quotient = quotient//8\n",
    "        else:\n",
    "            lst.append(quotient)\n",
    "    \n",
    "    return lst[::-1]\n",
    "\n",
    "to_str = [str(i) for i in dec_to_oct(a)]\n",
    "to_str = ''.join(to_str)\n",
    "to_int = int(to_str)\n",
    "\n",
    "print('\\nDecimal to Octal value is ',to_int)"
   ]
  },
  {
   "cell_type": "code",
   "execution_count": 55,
   "id": "f3e92886",
   "metadata": {},
   "outputs": [
    {
     "name": "stdout",
     "output_type": "stream",
     "text": [
      "Enter a decimal number: 4510\n",
      "\n",
      "Decimal to Hexadecimal value is  119E\n"
     ]
    }
   ],
   "source": [
    "a = int(input('Enter a decimal number: '))\n",
    "\n",
    "def dec_to_hex(a):\n",
    "    '''This function converts a decimal value to Hexadecimal'''\n",
    "    \n",
    "    lst = []\n",
    "    quotient = a\n",
    "    while quotient > 0:\n",
    "        lst.append(quotient%16)\n",
    "        quotient = quotient//16\n",
    "\n",
    "    return lst[::-1]\n",
    "\n",
    "catch = dec_to_hex(a)\n",
    "\n",
    "for index, i in enumerate(catch):\n",
    "    if i == 10:\n",
    "        catch[index] = 'A'\n",
    "    elif i == 11:\n",
    "        catch[index] = 'B'\n",
    "    elif i == 12:\n",
    "        catch[index] = 'C'\n",
    "    elif i == 13:\n",
    "        catch[index] = 'D'\n",
    "    elif i == 14:\n",
    "        catch[index] = 'E'\n",
    "    elif i == 15:\n",
    "        catch[index] = 'F'       \n",
    "\n",
    "to_str = [str(i) for i in catch]\n",
    "to_str = ''.join(to_str)\n",
    "print('\\nDecimal to Hexadecimal value is ',to_str)\n"
   ]
  },
  {
   "cell_type": "markdown",
   "id": "d5cba511",
   "metadata": {},
   "source": [
    "### Write a Python Program To Find ASCII value of a character?\n"
   ]
  },
  {
   "cell_type": "code",
   "execution_count": 57,
   "id": "463f3dfa",
   "metadata": {},
   "outputs": [
    {
     "name": "stdout",
     "output_type": "stream",
     "text": [
      "Enter any character for which ASCII value is to be determined: g\n",
      "\n",
      "ASCII value of your character is  103\n"
     ]
    }
   ],
   "source": [
    "a = input('Enter any character for which ASCII value is to be determined: ')\n",
    "\n",
    "def find_ascii(a):\n",
    "    '''This function finds ASCII value of a character'''\n",
    "    return ord(a)\n",
    "\n",
    "b = find_ascii(a)\n",
    "print('\\nASCII value of your character is ',b)"
   ]
  },
  {
   "cell_type": "markdown",
   "id": "46a1db5c",
   "metadata": {},
   "source": [
    "### Write a Python Program to Make a Simple Calculator with 4 basic mathematical operations?"
   ]
  },
  {
   "cell_type": "code",
   "execution_count": 61,
   "id": "7964d48f",
   "metadata": {},
   "outputs": [
    {
     "name": "stdout",
     "output_type": "stream",
     "text": [
      "Enter 1st number: 45\n",
      "Enter end number: 123\n",
      "***Enter w for + operation***\n",
      "***Enter a for - operation***\n",
      "***Enter s for * operation***\n",
      "***Enter d for / operation***\n",
      "Enter your choice of operation w\n"
     ]
    },
    {
     "data": {
      "text/plain": [
       "168"
      ]
     },
     "execution_count": 61,
     "metadata": {},
     "output_type": "execute_result"
    }
   ],
   "source": [
    "x = int(input('Enter 1st number: '))\n",
    "y = int(input('Enter end number: '))\n",
    "print('***Enter w for + operation***')\n",
    "print('***Enter a for - operation***')\n",
    "print('***Enter s for * operation***')\n",
    "print('***Enter d for / operation***')\n",
    "\n",
    "choice = input('Enter your choice of operation ')\n",
    "\n",
    "def math_val(x,y,choice):\n",
    "    '''This function does the 4 basic mathematical operations based on user choice'''\n",
    "    \n",
    "    if choice == 'w':\n",
    "        return x+y\n",
    "    elif choice == 'a':\n",
    "        return x-y\n",
    "    elif choice == 's':\n",
    "        return x*y\n",
    "    elif choice == 'd':\n",
    "        return x/y\n",
    "    else:\n",
    "        return ('Please give proper choice: w a s d')\n",
    "\n",
    "math_val(x,y,choice)"
   ]
  }
 ],
 "metadata": {
  "kernelspec": {
   "display_name": "Python 3 (ipykernel)",
   "language": "python",
   "name": "python3"
  },
  "language_info": {
   "codemirror_mode": {
    "name": "ipython",
    "version": 3
   },
   "file_extension": ".py",
   "mimetype": "text/x-python",
   "name": "python",
   "nbconvert_exporter": "python",
   "pygments_lexer": "ipython3",
   "version": "3.9.7"
  }
 },
 "nbformat": 4,
 "nbformat_minor": 5
}

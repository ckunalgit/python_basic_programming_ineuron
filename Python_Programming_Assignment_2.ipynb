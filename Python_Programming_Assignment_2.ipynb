{
 "cells": [
  {
   "cell_type": "markdown",
   "id": "6d7452ec",
   "metadata": {},
   "source": [
    "# Python_Programming_Assignment : Assignment_2"
   ]
  },
  {
   "cell_type": "markdown",
   "id": "996dac6e",
   "metadata": {},
   "source": [
    "### Write a Python program to convert kilometers to miles?"
   ]
  },
  {
   "cell_type": "code",
   "execution_count": 2,
   "id": "41fc87ff",
   "metadata": {},
   "outputs": [
    {
     "name": "stdout",
     "output_type": "stream",
     "text": [
      "Enter distance in kilometers:10\n",
      "distance in miles is: 6.2\n"
     ]
    }
   ],
   "source": [
    "km = int(input('Enter distance in kilometers:'))\n",
    "m = km*0.62\n",
    "print('distance in miles is:',m)"
   ]
  },
  {
   "cell_type": "markdown",
   "id": "3fd1e3a9",
   "metadata": {},
   "source": [
    "\n",
    "### Write a Python program to convert Celsius to Fahrenheit?"
   ]
  },
  {
   "cell_type": "code",
   "execution_count": 3,
   "id": "38f3c40c",
   "metadata": {},
   "outputs": [
    {
     "name": "stdout",
     "output_type": "stream",
     "text": [
      "Enter temperature in Celcius:0\n",
      "temperature in Farenheit is: 32.0\n"
     ]
    }
   ],
   "source": [
    "c = int(input('Enter temperature in Celcius:'))\n",
    "f = (c*9/5)+32\n",
    "print('temperature in Farenheit is:',f)"
   ]
  },
  {
   "cell_type": "markdown",
   "id": "fa366734",
   "metadata": {},
   "source": [
    "\n",
    "### Write a Python program to display calendar?"
   ]
  },
  {
   "cell_type": "code",
   "execution_count": 6,
   "id": "13c97192",
   "metadata": {},
   "outputs": [
    {
     "name": "stdout",
     "output_type": "stream",
     "text": [
      "    January 2022\n",
      "Mo Tu We Th Fr Sa Su\n",
      "                1  2\n",
      " 3  4  5  6  7  8  9\n",
      "10 11 12 13 14 15 16\n",
      "17 18 19 20 21 22 23\n",
      "24 25 26 27 28 29 30\n",
      "31\n",
      "\n"
     ]
    }
   ],
   "source": [
    "import calendar\n",
    "\n",
    "yy = 2022\n",
    "mm = 1\n",
    "print(calendar.month(yy,mm))"
   ]
  },
  {
   "cell_type": "markdown",
   "id": "833efdb5",
   "metadata": {},
   "source": [
    "\n",
    "### Write a Python program to solve quadratic equation?"
   ]
  },
  {
   "cell_type": "code",
   "execution_count": 25,
   "id": "7641265b",
   "metadata": {},
   "outputs": [
    {
     "name": "stdout",
     "output_type": "stream",
     "text": [
      "The 2 quadratic values of X are: -0.2928932188134524 -1.7071067811865475\n"
     ]
    }
   ],
   "source": [
    "import math\n",
    "\n",
    "a = 10\n",
    "b = 20\n",
    "c = 5\n",
    "q1 = (-b + math.sqrt(b**2-(4*a*c)))/(2*a)\n",
    "q2 = (-b - math.sqrt(b**2-(4*a*c)))/(2*a)\n",
    "\n",
    "print('The 2 quadratic values of X are:',q1,q2)"
   ]
  },
  {
   "cell_type": "markdown",
   "id": "343e00bb",
   "metadata": {},
   "source": [
    "\n",
    "### Write a Python program to swap two variables without temp variable?\n",
    "\n",
    "\n"
   ]
  },
  {
   "cell_type": "code",
   "execution_count": 27,
   "id": "fabe143f",
   "metadata": {},
   "outputs": [
    {
     "name": "stdout",
     "output_type": "stream",
     "text": [
      "20 10\n"
     ]
    }
   ],
   "source": [
    "a = 10\n",
    "b = 20\n",
    "a = a + b\n",
    "b = a - b\n",
    "a = a - b\n",
    "print(a,b)"
   ]
  }
 ],
 "metadata": {
  "kernelspec": {
   "display_name": "Python 3 (ipykernel)",
   "language": "python",
   "name": "python3"
  },
  "language_info": {
   "codemirror_mode": {
    "name": "ipython",
    "version": 3
   },
   "file_extension": ".py",
   "mimetype": "text/x-python",
   "name": "python",
   "nbconvert_exporter": "python",
   "pygments_lexer": "ipython3",
   "version": "3.9.7"
  }
 },
 "nbformat": 4,
 "nbformat_minor": 5
}

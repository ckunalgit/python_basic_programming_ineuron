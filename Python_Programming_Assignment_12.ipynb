{
 "cells": [
  {
   "cell_type": "markdown",
   "id": "2b7cd499",
   "metadata": {},
   "source": [
    "# Python_Programming_Assignment : Assignment_12"
   ]
  },
  {
   "cell_type": "code",
   "execution_count": 64,
   "id": "cc74494b",
   "metadata": {},
   "outputs": [],
   "source": [
    "import logging\n",
    "import flatdict\n",
    "\n",
    "class assignment_12:\n",
    "    \n",
    "        #d = {'a':1,'b':2,'c':3,'d':1,'e':2}\n",
    "        \n",
    "        def __init__(self,d):\n",
    "            self.d = d\n",
    "\n",
    "        def check_dict(self):\n",
    "            if type(self.d) == dict:\n",
    "                return True\n",
    "            else:\n",
    "                return False\n",
    "            \n",
    "        def program_1(self):\n",
    "            \"\"\"Extract Unique values from dictionary\"\"\"\n",
    "            \n",
    "            if self.check_dict():\n",
    "                return self.d.values()\n",
    "            \n",
    "        def program_2(self):\n",
    "            \"\"\"Return sum of all items of a dictionary\"\"\"\n",
    "            \n",
    "            if self.check_dict():\n",
    "                lst = self.d.values()\n",
    "                return sum(lst)\n",
    "            \n",
    "        def program_4(self):\n",
    "            \"\"\"Returns a flat dictionary\"\"\"\n",
    "            \n",
    "            if self.check_dict():\n",
    "                flat = flatdict.FlatDict(self.d,delimiter = '.')\n",
    "                return flat"
   ]
  },
  {
   "cell_type": "code",
   "execution_count": 49,
   "id": "37579feb",
   "metadata": {},
   "outputs": [],
   "source": [
    "obj = assignment_12({'a':10,'b':20,'c':30,'d':10,'e':22})"
   ]
  },
  {
   "cell_type": "markdown",
   "id": "666d6332",
   "metadata": {},
   "source": [
    "### 1.\tWrite a Python program to Extract Unique values from dictionary values?"
   ]
  },
  {
   "cell_type": "code",
   "execution_count": 50,
   "id": "23b2ed5e",
   "metadata": {},
   "outputs": [
    {
     "name": "stdout",
     "output_type": "stream",
     "text": [
      "Unique values from the given dictionary are:  {10, 20, 30, 22}\n"
     ]
    }
   ],
   "source": [
    "lst = obj.program_1()\n",
    "print('Unique values from the given dictionary are: ',set(lst))"
   ]
  },
  {
   "cell_type": "markdown",
   "id": "30147564",
   "metadata": {},
   "source": [
    "### 2.\tWrite a Python program to find the sum of all items in a dictionary?"
   ]
  },
  {
   "cell_type": "code",
   "execution_count": 52,
   "id": "058cba81",
   "metadata": {},
   "outputs": [
    {
     "name": "stdout",
     "output_type": "stream",
     "text": [
      "Sum of all elements from the dictinary is  92\n"
     ]
    }
   ],
   "source": [
    "a = obj.program_2()\n",
    "print('Sum of all elements from the dictinary is ',a)"
   ]
  },
  {
   "cell_type": "markdown",
   "id": "a7538369",
   "metadata": {},
   "source": [
    "### 3.\tWrite a Python program to Merging two Dictionaries?"
   ]
  },
  {
   "cell_type": "code",
   "execution_count": 59,
   "id": "736e91f1",
   "metadata": {},
   "outputs": [
    {
     "name": "stdout",
     "output_type": "stream",
     "text": [
      "The merged dictionary is  {'a': 10, 'b': 20, 'c': 30, 'd': 10, 'e': 22, 'f': 11, 'g': 23}\n"
     ]
    }
   ],
   "source": [
    "d1 = {'a':10,'b':20,'c':30,'d':10,'e':22}\n",
    "d2 = {'f':11,'g':23}\n",
    "\n",
    "def program_3(dict1,dict2):\n",
    "    \"\"\"This function merges items from 2 dictionaries\"\"\"\n",
    "    \n",
    "    dict1.update(dict2)\n",
    "    return dict1\n",
    "\n",
    "updated_dict = program_3(d1,d2)\n",
    "print('The merged dictionary is ',updated_dict)"
   ]
  },
  {
   "cell_type": "markdown",
   "id": "63127254",
   "metadata": {},
   "source": [
    "### 4.\tWrite a Python program to convert key-values list to flat dictionary?"
   ]
  },
  {
   "cell_type": "code",
   "execution_count": 66,
   "id": "10c48f08",
   "metadata": {},
   "outputs": [
    {
     "name": "stdout",
     "output_type": "stream",
     "text": [
      "Flattened dictionary is  {'foo.bar.baz': 0, 'foo.bar.qux': 1, 'foo.bar.corge': 2, 'foo.grault.baz': 3, 'foo.grault.qux': 4, 'foo.grault.corge': 5, 'garply.foo': 0, 'garply.bar': 1, 'garply.baz': 2, 'garply.qux.corge': 3}\n"
     ]
    }
   ],
   "source": [
    "obj1 = assignment_12({'foo': {'bar': {'baz': 0,\n",
    "                            'qux': 1,\n",
    "                            'corge': 2},\n",
    "                    'grault': {'baz': 3,\n",
    "                                'qux': 4,\n",
    "                                'corge': 5}},\n",
    "            'garply': {'foo': 0, 'bar': 1, 'baz': 2, 'qux': {'corge': 3}}})\n",
    "\n",
    "catch = obj1.program_4()\n",
    "\n",
    "print('Flattened dictionary is ',catch)"
   ]
  },
  {
   "cell_type": "markdown",
   "id": "2b3fe6f6",
   "metadata": {},
   "source": [
    "### 5.\tWrite a Python program to insertion at the beginning in OrderedDict?"
   ]
  },
  {
   "cell_type": "markdown",
   "id": "bf2e42ba",
   "metadata": {},
   "source": [
    "An OrderedDict is a dictionary subclass that remembers the order that keys were first inserted. The only difference between dict() and OrderedDict() is that OrderedDict preserves the order in which the keys are inserted"
   ]
  },
  {
   "cell_type": "code",
   "execution_count": 88,
   "id": "02042428",
   "metadata": {},
   "outputs": [
    {
     "name": "stdout",
     "output_type": "stream",
     "text": [
      "Ordered dict with appended value at beginning OrderedDict([('d', 10), ('a', 10), ('b', 21), ('c', 32)])\n"
     ]
    }
   ],
   "source": [
    "from collections import OrderedDict\n",
    "\n",
    "dct_o = {'a':10,'b':21,'c':32}\n",
    "\n",
    "def program_5(d):\n",
    "    \"\"\"This functions inserts at the beginning of an ordered dictionary\"\"\"\n",
    "    \n",
    "    d = OrderedDict(d)\n",
    "    d.update({'d':10})\n",
    "    \n",
    "    d.move_to_end('d',False)\n",
    "    print('Ordered dict with appended value at beginning',d)\n",
    "\n",
    "program_5(dct_o)"
   ]
  },
  {
   "cell_type": "markdown",
   "id": "d77f2227",
   "metadata": {},
   "source": [
    "### 6.\tWrite a Python program to check order of character in string using OrderedDict()?"
   ]
  },
  {
   "cell_type": "code",
   "execution_count": 91,
   "id": "3a691554",
   "metadata": {},
   "outputs": [
    {
     "name": "stdout",
     "output_type": "stream",
     "text": [
      "OrderedDict([('i', None), ('N', None), ('e', None), ('u', None), ('r', None), ('o', None), ('n', None), (' ', None), ('a', None), ('s', None), ('g', None), ('m', None), ('t', None)])\n",
      "The order of pattern is correct\n"
     ]
    }
   ],
   "source": [
    "def program_6(d, pattern):\n",
    "    \"\"\"This checks for a pattern in an ordered dictionary\"\"\"\n",
    "    \n",
    "    d = OrderedDict.fromkeys(d)\n",
    "    print(d)\n",
    "    l = 0\n",
    "    for key,value in d.items():\n",
    "        if (key == pattern[l]):\n",
    "            l = l + 1\n",
    "        if (l == (len(pattern))):\n",
    "            return 'The order of pattern is correct'\n",
    "\n",
    "    return 'The order of pattern is incorrect'\n",
    "\n",
    "d = 'iNeuron assignments'\n",
    "pattern = 'n'\n",
    "\n",
    "print(program_6(d,pattern))"
   ]
  },
  {
   "cell_type": "markdown",
   "id": "eaabbc16",
   "metadata": {},
   "source": [
    "### 7.\tWrite a Python program to sort Python Dictionaries by Key or Value?"
   ]
  },
  {
   "cell_type": "code",
   "execution_count": 16,
   "id": "51ea8db9",
   "metadata": {},
   "outputs": [
    {
     "name": "stdout",
     "output_type": "stream",
     "text": [
      "\n",
      "\n"
     ]
    }
   ],
   "source": [
    "d = {2:101,1:21,5:42,7:11,3:22}\n",
    "\n",
    "def sort_key(d):\n",
    "    \"\"\"This will sort the keys in the dicionary\"\"\"\n",
    "    \n",
    "    keylist = []\n",
    "    for key,value in d.items():\n",
    "    #print(key)\n",
    "        keylist.append(key)\n",
    "    #print(keylist)\n",
    "\n",
    "    return(keylist)\n",
    "\n",
    "def program_7_1(d):\n",
    "    \"\"\"This will print the elements of the dictionary in order of sorted keys\"\"\"\n",
    "    \n",
    "    print('Sorted dictionary by keys')\n",
    "    keylist = sort_key(d)\n",
    "    keylist.sort()\n",
    "    #print(keylist)\n",
    "    for i in keylist:\n",
    "        print((i,d[i]),end = '')\n",
    "    \n",
    "def sort_val(d):\n",
    "    \"\"\"This will sort the keys in the dicionary\"\"\"\n",
    "    \n",
    "    vallist = []\n",
    "    for key,value in d.items():\n",
    "    #print(key)\n",
    "        vallist.append(value)\n",
    "    #print(keylist)\n",
    "\n",
    "    return(vallist)    \n",
    "\n",
    "print('\\n')\n",
    "\n",
    "def program_7_2(d):\n",
    "    \"\"\"This will print the elements of the dictionary in order of sorted values\"\"\"\n",
    "    \n",
    "    print('Sorted dictionary by values')\n",
    "    vallist = sort_val(d)\n",
    "    vallist.sort()\n",
    "\n",
    "    for i in vallist:\n",
    "        for key,value in d.items():\n",
    "            if i == value:\n",
    "                print((key,value),end = '')"
   ]
  },
  {
   "cell_type": "code",
   "execution_count": 17,
   "id": "f922a544",
   "metadata": {},
   "outputs": [
    {
     "name": "stdout",
     "output_type": "stream",
     "text": [
      "Sorted dictionary by keys\n",
      "(1, 21)(2, 101)(3, 22)(5, 42)(7, 11)"
     ]
    }
   ],
   "source": [
    "program_7_1(d)"
   ]
  },
  {
   "cell_type": "code",
   "execution_count": 18,
   "id": "1e523140",
   "metadata": {},
   "outputs": [
    {
     "name": "stdout",
     "output_type": "stream",
     "text": [
      "Sorted dictionary by values\n",
      "(7, 11)(1, 21)(3, 22)(5, 42)(2, 101)"
     ]
    }
   ],
   "source": [
    "program_7_2(d)"
   ]
  },
  {
   "cell_type": "code",
   "execution_count": null,
   "id": "268f8c58",
   "metadata": {},
   "outputs": [],
   "source": []
  }
 ],
 "metadata": {
  "kernelspec": {
   "display_name": "Python 3 (ipykernel)",
   "language": "python",
   "name": "python3"
  },
  "language_info": {
   "codemirror_mode": {
    "name": "ipython",
    "version": 3
   },
   "file_extension": ".py",
   "mimetype": "text/x-python",
   "name": "python",
   "nbconvert_exporter": "python",
   "pygments_lexer": "ipython3",
   "version": "3.9.7"
  }
 },
 "nbformat": 4,
 "nbformat_minor": 5
}

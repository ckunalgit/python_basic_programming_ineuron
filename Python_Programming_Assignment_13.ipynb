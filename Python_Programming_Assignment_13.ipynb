{
 "cells": [
  {
   "cell_type": "markdown",
   "id": "755d2ac6",
   "metadata": {},
   "source": [
    "## Python_Programming_Assignment : Assignment_13"
   ]
  },
  {
   "cell_type": "markdown",
   "id": "3b6950fc",
   "metadata": {},
   "source": [
    "Write a program that calculates and prints the value according to the given formula:\n",
    "\n",
    "Q = Square root of [(2 * C * D)/H]\n",
    "Following are the fixed values of C and H:\n",
    "C is 50. H is 30.\n",
    "D is the variable whose values should be input to your program in a comma-separated sequence.\n"
   ]
  },
  {
   "cell_type": "code",
   "execution_count": 1,
   "id": "958da8e8",
   "metadata": {},
   "outputs": [
    {
     "data": {
      "text/html": [
       "<style type='text/css'>\n",
       ".CodeMirror{\n",
       "font-size: 13px;\n",
       "font-family: Verdana;\n",
       "</style>\n"
      ],
      "text/plain": [
       "<IPython.core.display.HTML object>"
      ]
     },
     "metadata": {},
     "output_type": "display_data"
    }
   ],
   "source": [
    "%%html\n",
    "<style type='text/css'>\n",
    ".CodeMirror{\n",
    "font-size: 13px;\n",
    "font-family: Verdana;\n",
    "</style>"
   ]
  },
  {
   "cell_type": "code",
   "execution_count": 14,
   "id": "25bd08e1",
   "metadata": {},
   "outputs": [
    {
     "name": "stdout",
     "output_type": "stream",
     "text": [
      "Enter consecutive values separated by comma: 100,150,180\n",
      "[18, 22, 24]\n"
     ]
    }
   ],
   "source": [
    "import math\n",
    "\n",
    "i = input('Enter consecutive values separated by comma: ')\n",
    "\n",
    "def check_comma(i):\n",
    "    '''Program to check if the values entered are comma separated or not'''\n",
    "    try:\n",
    "        vals = i.split(\",\")\n",
    "        return vals,True\n",
    "    except Exception as e:\n",
    "        print(\"Please input comma separated values only\")\n",
    "\n",
    "def calc(i):\n",
    "    '''Program to check if integer values are entered or not and get list of values'''\n",
    "    \n",
    "    vals,bool = check_comma(i) # Checking if the entered input is correct or not\n",
    "    final = []\n",
    "    \n",
    "    try:\n",
    "        for j in vals:\n",
    "            q = math.sqrt((2 * 50 * int(j))/30) # Converting the values from input into string and calulating\n",
    "            final.append(math.floor(q)) # Taking the lower bound\n",
    "    except Exception as e:\n",
    "        print('You did not enter integer values')\n",
    "    \n",
    "    return final\n",
    "\n",
    "catch = calc(i)\n",
    "#catch,bool = check_comma(i)\n",
    "print(catch)\n",
    "            "
   ]
  },
  {
   "cell_type": "markdown",
   "id": "8cdc292f",
   "metadata": {},
   "source": [
    "Write a program which takes 2 digits, X,Y as input and generates a 2-dimensional array. The element value in the i-th row and j-th column of the array should be i*j.\n",
    "\n",
    "Note: i=0,1.., X-1; j=0,1,¡¬Y-1.\n"
   ]
  },
  {
   "cell_type": "code",
   "execution_count": 15,
   "id": "3af36557",
   "metadata": {},
   "outputs": [
    {
     "name": "stdout",
     "output_type": "stream",
     "text": [
      "Enter num of rows: 3\n",
      "Enter num of columns: 5\n",
      "[[0, 0, 0, 0, 0], [0, 1, 2, 3, 4], [0, 2, 4, 6, 8]]\n"
     ]
    }
   ],
   "source": [
    "row = int(input(\"Enter num of rows: \"))\n",
    "col = int(input(\"Enter num of columns: \"))\n",
    "\n",
    "def create_matrix(a,b):\n",
    "    '''Program to generate matrix based on given inputs'''\n",
    "    \n",
    "    first = []\n",
    "    last = []\n",
    "    \n",
    "    for i in range(a): #0,1,2\n",
    "        for j in range(b): #0,1,2,3,4\n",
    "            first.append(i*j)\n",
    "        last.append(first)\n",
    "        first = []\n",
    "\n",
    "    return last\n",
    "\n",
    "catch = create_matrix(row,col)\n",
    "print(catch)"
   ]
  },
  {
   "cell_type": "markdown",
   "id": "91cb5605",
   "metadata": {},
   "source": [
    "Write a program that accepts a comma separated sequence of words as input and prints the words in a comma-separated sequence after sorting them alphabetically."
   ]
  },
  {
   "cell_type": "code",
   "execution_count": 18,
   "id": "ef7b6d6a",
   "metadata": {},
   "outputs": [
    {
     "name": "stdout",
     "output_type": "stream",
     "text": [
      "Enter words as comma separated sequence: without,hello,bag,world\n",
      "['bag', 'hello', 'without', 'world']\n"
     ]
    }
   ],
   "source": [
    "raw = input('Enter words as comma separated sequence: ')\n",
    "\n",
    "def check_comma(i):\n",
    "    '''Program to check if the values entered are comma separated or not'''\n",
    "    try:\n",
    "        vals = i.split(\",\")\n",
    "        return vals,True\n",
    "    except Exception as e:\n",
    "        print(\"Please input comma separated values only\")\n",
    "        \n",
    "def alpha_sort(i):\n",
    "    '''Program to sort given words alphabetically'''\n",
    "    \n",
    "    vals,bool = check_comma(i)\n",
    "    \n",
    "    vals.sort() #Use the sort method to sort the strings\n",
    "    return vals\n",
    "    \n",
    "catch =alpha_sort(raw)\n",
    "print(catch)"
   ]
  },
  {
   "cell_type": "markdown",
   "id": "b1ea6230",
   "metadata": {},
   "source": [
    "Write a program that accepts a sequence of whitespace separated words as input and prints the words after removing all duplicate words and sorting them alphanumerically."
   ]
  },
  {
   "cell_type": "code",
   "execution_count": 35,
   "id": "1f97600e",
   "metadata": {},
   "outputs": [
    {
     "name": "stdout",
     "output_type": "stream",
     "text": [
      "Enter sentence as space separated words: hello world and practice makes perfect and hello world again\n",
      "again and hello makes perfect practice world\n"
     ]
    }
   ],
   "source": [
    "raw = input('Enter sentence as space separated words: ')\n",
    "\n",
    "def dupes_sort(i):\n",
    "    '''Program to remove dupe words and sort alphabetically'''\n",
    "    \n",
    "    lst = i.split() #Splitting the sentence based on white space characters\n",
    "    lst = set(lst) # Removing duplicate words\n",
    "    \n",
    "    lst = sorted(lst) #Converting back into list for next step\n",
    "    return lst\n",
    "\n",
    "catch = dupes_sort(raw)\n",
    "print(' '.join(catch))\n"
   ]
  },
  {
   "cell_type": "markdown",
   "id": "8ac7af4b",
   "metadata": {},
   "source": [
    "Write a program that accepts a sentence and calculate the number of letters and digits"
   ]
  },
  {
   "cell_type": "code",
   "execution_count": 46,
   "id": "0fb3f6e3",
   "metadata": {},
   "outputs": [
    {
     "name": "stdout",
     "output_type": "stream",
     "text": [
      "Enter a sentence: hello world! 123\n",
      "LETTERS   10\n",
      "DIGITS    3\n"
     ]
    }
   ],
   "source": [
    "raw = input('Enter a sentence: ')\n",
    "\n",
    "def cnt(a):\n",
    "    '''Program to count the Letters and Digits in the given input'''\n",
    "    \n",
    "    # Initialise the variables which will hold count of digits and alphabets\n",
    "    num_count = 0\n",
    "    alp_count = 0\n",
    "    \n",
    "    catch = list(a) #Split the sentence into individual elements\n",
    "    \n",
    "    try:\n",
    "        for each in catch:\n",
    "            if(ord(each) >= 48 and ord(each) <= 57): # To check for digits\n",
    "                num_count += 1\n",
    "            elif ((ord(each) >= 65 and ord(each) <= 90) or (ord(each) >= 97 and ord(each) <= 122)): #To check for lowercase and uppercase alphabets\n",
    "                alp_count += 1\n",
    "    except Exception as e:\n",
    "        return e\n",
    "    finally:\n",
    "        return num_count,alp_count\n",
    "\n",
    "a,b = cnt(raw)  \n",
    "print('LETTERS  ',b)\n",
    "print('DIGITS   ',a)"
   ]
  },
  {
   "cell_type": "markdown",
   "id": "93ad7e50",
   "metadata": {},
   "source": [
    "A website requires the users to input username and password to register. Write a program to check the validity of password input by users.\n",
    "\n",
    "Following are the criteria for checking the password:\n",
    "\n",
    "1. At least 1 letter between [a-z]\n",
    "\n",
    "2. At least 1 number between [0-9]\n",
    "\n",
    "1. At least 1 letter between [A-Z]\n",
    "\n",
    "3. At least 1 character from [$#@]\n",
    "\n",
    "4. Minimum length of transaction password: 6\n",
    "\n",
    "5. Maximum length of transaction password: 12\n",
    "\n",
    "Your program should accept a sequence of comma separated passwords and will check them according to the above criteria. Passwords that match the criteria are to be printed, each separated by a comma.\n"
   ]
  },
  {
   "cell_type": "code",
   "execution_count": 65,
   "id": "5f1b9cba",
   "metadata": {},
   "outputs": [
    {
     "name": "stdout",
     "output_type": "stream",
     "text": [
      "Enter passwords: ABd1234@1,a F1#,2w3E*,2We3345\n",
      "ABd1234@1\n"
     ]
    }
   ],
   "source": [
    "#user = input('Username: ')\n",
    "pswd = input('Enter passwords: ')\n",
    "\n",
    "def check_comma(i):\n",
    "    '''Program to check if the values entered are comma separated or not'''\n",
    "    try:\n",
    "        vals = i.split(\",\")\n",
    "        return vals\n",
    "    except Exception as e:\n",
    "        print(\"Please input comma separated values only\")\n",
    "\n",
    "def pass_check(pswd):\n",
    "    '''Program to check password validity'''\n",
    "    \n",
    "    catch = check_comma(pswd)\n",
    "    \n",
    "    # Declare variables to check for different password criteria\n",
    "    a_z = 0\n",
    "    A_Z = 0\n",
    "    num_ = 0\n",
    "    spcl = 0\n",
    "    \n",
    "    lst = [] #This will hold the valid passwords\n",
    "    \n",
    "    bool = False #Setting this variable for incorrect passwords\n",
    "    \n",
    "    for each in catch:\n",
    "        each = list(each)\n",
    "        \n",
    "        if len(each) >= 6 and len(each) <= 12: #Check for length of password\n",
    "            for eaches in each:\n",
    "                if (ord(eaches) >= 97 and ord(eaches) <= 122): # Check if between a-z\n",
    "                    a_z += 1\n",
    "                elif (ord(eaches) >= 65 and ord(eaches) <= 90): # Check if between A-Z\n",
    "                    A_Z +=1\n",
    "                elif (ord(eaches) >= 48 and ord(eaches) <= 57): # Check if between 0-9\n",
    "                    num_ +=1\n",
    "                elif (ord(eaches) == 35 or ord(eaches) ==36 or ord(eaches) == 64): # Check if value is #, $ or @\n",
    "                    spcl += 1\n",
    "        else:\n",
    "            break\n",
    "            \n",
    "        if a_z > 0 and A_Z > 0 and num_ > 0 and spcl > 0:\n",
    "            bool = True\n",
    "            lst.append(each)\n",
    "    \n",
    "    return lst\n",
    "            \n",
    "        \n",
    "catch = pass_check(pswd)\n",
    "#print(','.join(catch))\n",
    "\n",
    "for i in catch:\n",
    "    lst = i\n",
    "    \n",
    "print(''.join(lst))"
   ]
  },
  {
   "cell_type": "code",
   "execution_count": null,
   "id": "4d8fffb2",
   "metadata": {},
   "outputs": [],
   "source": []
  }
 ],
 "metadata": {
  "kernelspec": {
   "display_name": "Python 3 (ipykernel)",
   "language": "python",
   "name": "python3"
  },
  "language_info": {
   "codemirror_mode": {
    "name": "ipython",
    "version": 3
   },
   "file_extension": ".py",
   "mimetype": "text/x-python",
   "name": "python",
   "nbconvert_exporter": "python",
   "pygments_lexer": "ipython3",
   "version": "3.9.7"
  }
 },
 "nbformat": 4,
 "nbformat_minor": 5
}

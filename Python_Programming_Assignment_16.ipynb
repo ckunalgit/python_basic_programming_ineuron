{
 "cells": [
  {
   "cell_type": "markdown",
   "id": "253195dc",
   "metadata": {},
   "source": [
    "# Python_Programming_Assignment : Assignment_16"
   ]
  },
  {
   "cell_type": "code",
   "execution_count": 2,
   "id": "845a6f5e",
   "metadata": {},
   "outputs": [
    {
     "data": {
      "text/html": [
       "<style type='text/css'>\n",
       ".CodeMirror{\n",
       "font-size: 13px;\n",
       "font-family: Verdana;\n",
       "</style>\n"
      ],
      "text/plain": [
       "<IPython.core.display.HTML object>"
      ]
     },
     "metadata": {},
     "output_type": "display_data"
    }
   ],
   "source": [
    "%%html\n",
    "<style type='text/css'>\n",
    ".CodeMirror{\n",
    "font-size: 13px;\n",
    "font-family: Verdana;\n",
    "</style>"
   ]
  },
  {
   "cell_type": "markdown",
   "id": "f2593388",
   "metadata": {},
   "source": [
    "### Write a function that stutters a word as if someone is struggling to read it. The first two letters are repeated twice with an ellipsis ... and space after each, and then the word is pronounced with a question mark ?"
   ]
  },
  {
   "cell_type": "code",
   "execution_count": 9,
   "id": "2198c480",
   "metadata": {},
   "outputs": [
    {
     "name": "stdout",
     "output_type": "stream",
     "text": [
      "Please enter word to be pronounced: incredible\n",
      "in...in...incredible?\n"
     ]
    }
   ],
   "source": [
    "word = input(\"Please enter word to be pronounced: \")\n",
    "\n",
    "def stutter(word):\n",
    "    '''This function st...st...stutters'''\n",
    "    \n",
    "    s_word = str(word[0]+word[1])\n",
    "    return str(s_word + \"...\" + s_word + \"...\" + word + \"?\")\n",
    "\n",
    "if len(word) < 2:\n",
    "    print(\"Please enter a valid word which is atleast 2 characters long\")\n",
    "else:\n",
    "    print(stutter(word))"
   ]
  },
  {
   "cell_type": "markdown",
   "id": "5fd597a0",
   "metadata": {},
   "source": [
    "### Create a function that takes an angle in radians and returns the corresponding angle in degrees rounded to one decimal place."
   ]
  },
  {
   "cell_type": "code",
   "execution_count": 12,
   "id": "381da16e",
   "metadata": {},
   "outputs": [
    {
     "name": "stdout",
     "output_type": "stream",
     "text": [
      "Enter value in radians: 1\n",
      "Angle in degress is  57.3\n"
     ]
    }
   ],
   "source": [
    "import math\n",
    "\n",
    "try:\n",
    "    angle = float(input('Enter value in radians: '))\n",
    "except ValueError:\n",
    "    print(\"Please enter real numbers only. Strings won't work\")\n",
    "    \n",
    "    \n",
    "    \n",
    "def rad_to_def(angle):\n",
    "    '''Function to convert radians to degrees'''\n",
    "    \n",
    "    _in_deg = angle * 57.2958\n",
    "    return round(_in_deg,1)                  # Rounding off to 1 decimal place\n",
    "\n",
    "print('Angle in degress is ',rad_to_def(angle))\n"
   ]
  },
  {
   "cell_type": "markdown",
   "id": "b05d4299",
   "metadata": {},
   "source": [
    "### In this challenge, establish if a given integer num is a Curzon number. If 1 plus 2 elevated to num is exactly divisible by 1 plus 2 multiplied by num, then num is a Curzon number.\n",
    "### Given a non-negative integer num, implement a function that returns True if num is a Curzon number, or False otherwise."
   ]
  },
  {
   "attachments": {
    "image.png": {
     "image/png": "[encoded data removed]"
    }
   },
   "cell_type": "markdown",
   "id": "7f30bc98",
   "metadata": {},
   "source": [
    "![image.png](attachment:image.png)"
   ]
  },
  {
   "cell_type": "code",
   "execution_count": 18,
   "id": "ebb31340",
   "metadata": {},
   "outputs": [
    {
     "name": "stdout",
     "output_type": "stream",
     "text": [
      "Enter a number to check if Curzon or not: 5\n",
      "5  is a Curzon number\n"
     ]
    }
   ],
   "source": [
    "import math\n",
    "\n",
    "# Get number from user\n",
    "\n",
    "try:\n",
    "    num = int(input(\"Enter a number to check if Curzon or not: \"))\n",
    "except ValueError:\n",
    "    print(\"Please enter valid values only\")\n",
    "    \n",
    "    \n",
    "def curzon(N):\n",
    "    '''Function to determine whether given number is Curzon number or not'''\n",
    "    \n",
    "    store1 = int(math.pow(2,N)) + 1        # Calculating 2^N + 1\n",
    "    store2 = (2*N)+1                            # Calculating 2*N + 1\n",
    "    \n",
    "    if store1 % store2 == 0:\n",
    "        return True\n",
    "\n",
    "if curzon(num):\n",
    "    print(num,' is a Curzon number')\n",
    "else:\n",
    "    print(num,' is not a Curzon number')"
   ]
  },
  {
   "cell_type": "markdown",
   "id": "4fb2b6ff",
   "metadata": {},
   "source": [
    "### Given the side length x find the area of a hexagon."
   ]
  },
  {
   "cell_type": "code",
   "execution_count": 23,
   "id": "194a6ff4",
   "metadata": {},
   "outputs": [
    {
     "name": "stdout",
     "output_type": "stream",
     "text": [
      "Enter side length of hexagon: 3\n",
      "Area of the hexagon is  23.38  sq units\n"
     ]
    }
   ],
   "source": [
    "import math\n",
    "\n",
    "# Get side length from user\n",
    "\n",
    "try:\n",
    "    num = int(input(\"Enter side length of hexagon: \"))\n",
    "except ValueError:\n",
    "    print(\"Please enter valid integer values only\")\n",
    "    \n",
    "def hexarea(a):\n",
    "    '''Function to calculate area of hexagon'''\n",
    "    \n",
    "    area = (3 * math.sqrt(3) * a * a)/2\n",
    "    return round(area,2)\n",
    "\n",
    "catch = hexarea(num)\n",
    "\n",
    "print('Area of the hexagon is ',catch,' sq units')"
   ]
  },
  {
   "cell_type": "markdown",
   "id": "eae86047",
   "metadata": {},
   "source": [
    "### Create a function that returns a base-2 (binary) representation of a base-10 (decimal) string number. To convert is simple: ((2) means base-2 and (10) means base-10) 010101001(2) = 1 + 8 + 32 + 128"
   ]
  },
  {
   "cell_type": "code",
   "execution_count": 16,
   "id": "e5bb2d77",
   "metadata": {},
   "outputs": [
    {
     "name": "stdout",
     "output_type": "stream",
     "text": [
      "Enter decimal number: 10\n",
      "[1, 0, 1, 0]\n"
     ]
    }
   ],
   "source": [
    "# Get base 10 number from user\n",
    "\n",
    "try:\n",
    "    num = int(input(\"Enter decimal number: \"))\n",
    "except ValueError:\n",
    "    print(\"Please enter valid integer values only\")\n",
    "\n",
    "def dec_to_bin(n):\n",
    "    '''Function to convert decimal number to Binary'''\n",
    "    \n",
    "    lst = []   # Create an empty list to store each base 2 digit\n",
    "    \n",
    "    while n != 1:\n",
    "        lst.append(n%2)\n",
    "        n = n//2\n",
    "    \n",
    "    lst.append(n)\n",
    "    return lst\n",
    "\n",
    "catch = dec_to_bin(num)\n",
    "\n",
    "print(catch[::-1])\n",
    "    "
   ]
  }
 ],
 "metadata": {
  "kernelspec": {
   "display_name": "Python 3 (ipykernel)",
   "language": "python",
   "name": "python3"
  },
  "language_info": {
   "codemirror_mode": {
    "name": "ipython",
    "version": 3
   },
   "file_extension": ".py",
   "mimetype": "text/x-python",
   "name": "python",
   "nbconvert_exporter": "python",
   "pygments_lexer": "ipython3",
   "version": "3.9.7"
  }
 },
 "nbformat": 4,
 "nbformat_minor": 5
}

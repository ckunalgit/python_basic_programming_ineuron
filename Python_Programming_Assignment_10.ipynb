{
 "cells": [
  {
   "cell_type": "markdown",
   "id": "1799acb5",
   "metadata": {},
   "source": [
    "# Python_Programming_Assignment : Assignment_10"
   ]
  },
  {
   "cell_type": "markdown",
   "id": "40792fea",
   "metadata": {},
   "source": [
    "### All programs in this assignment have been done inside a class and individually called later as per best practice"
   ]
  },
  {
   "cell_type": "code",
   "execution_count": 1,
   "id": "2ca24a1f",
   "metadata": {},
   "outputs": [],
   "source": [
    "class assignment_10:\n",
    "    \n",
    "    def __init__(self,lst):\n",
    "        \n",
    "        \"\"\"This initiates the class and all related objects\"\"\"\n",
    "        try:\n",
    "            if type(lst) != lst:\n",
    "                raise Exception('This is not a list')\n",
    "        except:\n",
    "            self.lst = lst\n",
    "    \n",
    "    def program_1(self):\n",
    "        \n",
    "        \"\"\"This sums all elements in a given list\"\"\"\n",
    "        \n",
    "        return sum(self.lst)\n",
    "    \n",
    "    def program_2(self):\n",
    "        \n",
    "        \"\"\"This multiplies all elements in a list\"\"\"\n",
    "        \n",
    "        m = 1\n",
    "        for i in self.lst:\n",
    "            m = m*i\n",
    "        return m\n",
    "    \n",
    "    def program_3(self):\n",
    "        \n",
    "        \"\"\"Finds smallest number in a list\"\"\"\n",
    "        \n",
    "        self.lst.sort()\n",
    "        return self.lst[0]\n",
    "    \n",
    "    def program_4(self):\n",
    "        \n",
    "        \"\"\"Finds largest number in a list\"\"\"\n",
    "        \n",
    "        self.lst.sort()\n",
    "        return self.lst[-1]\n",
    "    \n",
    "    def program_5(self):\n",
    "        \n",
    "        \"\"\"Finds 2nd largest number in a list\"\"\"\n",
    "        \n",
    "        self.lst.sort(reverse = True)\n",
    "\n",
    "        if len(self.lst) == 0:\n",
    "            raise Exception(\"This is an empty list\")\n",
    "        elif len(self.lst) == 1:\n",
    "            return self.lst[0]\n",
    "        else:\n",
    "            return self.lst[1]\n",
    "    \n",
    "    def program_6(self,n):\n",
    "        \n",
    "        \"\"\"Finds N largest elements from a list\"\"\"\n",
    "        \n",
    "        self.lst.sort(reverse = True)\n",
    "        l = []\n",
    "\n",
    "        for i in range(n):\n",
    "            l.append(self.lst[i])\n",
    "        \n",
    "        return l\n",
    "    \n",
    "    def program_7(self):\n",
    "        \n",
    "        \"\"\"This prints even numbers in a list\"\"\"\n",
    "        \n",
    "        even_num = [i for i in self.lst if i%2==0]\n",
    "        return even_num\n",
    "    \n",
    "    def program_8(self):\n",
    "        \n",
    "        \"\"\"This prints odd numbers in a list\"\"\"\n",
    "        \n",
    "        odd_num = [i for i in self.lst if i%2==1]\n",
    "        return odd_num\n",
    "    \n",
    "    def program_9(self):\n",
    "        \n",
    "        \"\"\"This removes empty list from a given list\"\"\"\n",
    "        \n",
    "        for i in self.lst:\n",
    "            if type(i) != list:\n",
    "                continue\n",
    "            else:\n",
    "                self.lst.remove(i)\n",
    "        \n",
    "        return self.lst\n",
    "    \n",
    "    def program_10(self):\n",
    "        \n",
    "        \"\"\"This copies a list into another list\"\"\"\n",
    "        \n",
    "        mpty = []\n",
    "        \n",
    "        if len(self.lst) == 0:\n",
    "            return mpty\n",
    "        else:\n",
    "            mpty = [i for i in self.lst]\n",
    "        \n",
    "        return mpty\n",
    "    \n",
    "    def program_11(self,n):\n",
    "        \n",
    "        \"\"\"Count occurences of an element inside a list\"\"\"\n",
    "        \n",
    "        count = 0\n",
    "        for i in self.lst:\n",
    "            if i == n:\n",
    "                count+=1\n",
    "            else:\n",
    "                continue\n",
    "        \n",
    "        return count\n",
    "                "
   ]
  },
  {
   "cell_type": "markdown",
   "id": "7d0ee971",
   "metadata": {},
   "source": [
    "### Initializing the class"
   ]
  },
  {
   "cell_type": "code",
   "execution_count": 71,
   "id": "356d6b02",
   "metadata": {},
   "outputs": [],
   "source": [
    "k = assignment_10([1,2,3,4,5])"
   ]
  },
  {
   "cell_type": "markdown",
   "id": "63c1fdf4",
   "metadata": {},
   "source": [
    "### 1.\tWrite a Python program to find sum of elements in list?"
   ]
  },
  {
   "cell_type": "code",
   "execution_count": 72,
   "id": "a670f93c",
   "metadata": {},
   "outputs": [
    {
     "data": {
      "text/plain": [
       "15"
      ]
     },
     "execution_count": 72,
     "metadata": {},
     "output_type": "execute_result"
    }
   ],
   "source": [
    "k.program_1()"
   ]
  },
  {
   "cell_type": "markdown",
   "id": "607c9175",
   "metadata": {},
   "source": [
    "### 2.\tWrite a Python program to  Multiply all numbers in the list?"
   ]
  },
  {
   "cell_type": "code",
   "execution_count": 73,
   "id": "ef6f98e6",
   "metadata": {},
   "outputs": [
    {
     "data": {
      "text/plain": [
       "120"
      ]
     },
     "execution_count": 73,
     "metadata": {},
     "output_type": "execute_result"
    }
   ],
   "source": [
    "k.program_2()"
   ]
  },
  {
   "cell_type": "markdown",
   "id": "db0e2ddb",
   "metadata": {},
   "source": [
    "### 3.\tWrite a Python program to find smallest number in a list?"
   ]
  },
  {
   "cell_type": "code",
   "execution_count": 74,
   "id": "f2cd99af",
   "metadata": {},
   "outputs": [
    {
     "data": {
      "text/plain": [
       "1"
      ]
     },
     "execution_count": 74,
     "metadata": {},
     "output_type": "execute_result"
    }
   ],
   "source": [
    "k.program_3()"
   ]
  },
  {
   "cell_type": "markdown",
   "id": "b9344306",
   "metadata": {},
   "source": [
    "### 4.\tWrite a Python program to find largest number in a list?"
   ]
  },
  {
   "cell_type": "code",
   "execution_count": 75,
   "id": "3eff286c",
   "metadata": {},
   "outputs": [
    {
     "data": {
      "text/plain": [
       "5"
      ]
     },
     "execution_count": 75,
     "metadata": {},
     "output_type": "execute_result"
    }
   ],
   "source": [
    "k.program_4()"
   ]
  },
  {
   "cell_type": "markdown",
   "id": "f2ea05ee",
   "metadata": {},
   "source": [
    "### 5.\tWrite a Python program to find second largest number in a list?"
   ]
  },
  {
   "cell_type": "code",
   "execution_count": 76,
   "id": "52fcdeea",
   "metadata": {},
   "outputs": [
    {
     "data": {
      "text/plain": [
       "4"
      ]
     },
     "execution_count": 76,
     "metadata": {},
     "output_type": "execute_result"
    }
   ],
   "source": [
    "k.program_5()"
   ]
  },
  {
   "cell_type": "markdown",
   "id": "144a5a6f",
   "metadata": {},
   "source": [
    "### 6.\tWrite a Python program to find N largest elements from a list?"
   ]
  },
  {
   "cell_type": "code",
   "execution_count": 77,
   "id": "5a6c5a6c",
   "metadata": {},
   "outputs": [
    {
     "data": {
      "text/plain": [
       "[5, 4, 3]"
      ]
     },
     "execution_count": 77,
     "metadata": {},
     "output_type": "execute_result"
    }
   ],
   "source": [
    "k.program_6(3) #Asking for the function to give the 3 largest elements from the given list"
   ]
  },
  {
   "cell_type": "markdown",
   "id": "d2f8eaf6",
   "metadata": {},
   "source": [
    "### 7.\tWrite a Python program to print even numbers in a list?"
   ]
  },
  {
   "cell_type": "code",
   "execution_count": 78,
   "id": "88499844",
   "metadata": {},
   "outputs": [
    {
     "data": {
      "text/plain": [
       "[4, 2]"
      ]
     },
     "execution_count": 78,
     "metadata": {},
     "output_type": "execute_result"
    }
   ],
   "source": [
    "k.program_7()"
   ]
  },
  {
   "cell_type": "markdown",
   "id": "ded91639",
   "metadata": {},
   "source": [
    "### 8.\tWrite a Python program to print odd numbers in a List?"
   ]
  },
  {
   "cell_type": "code",
   "execution_count": 79,
   "id": "3baf4bcd",
   "metadata": {},
   "outputs": [
    {
     "data": {
      "text/plain": [
       "[5, 3, 1]"
      ]
     },
     "execution_count": 79,
     "metadata": {},
     "output_type": "execute_result"
    }
   ],
   "source": [
    "k.program_8()"
   ]
  },
  {
   "cell_type": "markdown",
   "id": "ba881d6b",
   "metadata": {},
   "source": [
    "### 9.\tWrite a Python program to Remove empty List from List?"
   ]
  },
  {
   "cell_type": "code",
   "execution_count": 2,
   "id": "e5a544d9",
   "metadata": {},
   "outputs": [],
   "source": [
    "#Initializing the class again with an empty list\n",
    "\n",
    "a = assignment_10([1,2,3,[],[5,6],[]])"
   ]
  },
  {
   "cell_type": "code",
   "execution_count": 3,
   "id": "8ed1fdac",
   "metadata": {},
   "outputs": [
    {
     "data": {
      "text/plain": [
       "[1, 2, 3, [5, 6]]"
      ]
     },
     "execution_count": 3,
     "metadata": {},
     "output_type": "execute_result"
    }
   ],
   "source": [
    "a.program_9()"
   ]
  },
  {
   "cell_type": "markdown",
   "id": "1919eec8",
   "metadata": {},
   "source": [
    "### 10.\tWrite a Python program to Cloning or Copying a list?"
   ]
  },
  {
   "cell_type": "code",
   "execution_count": 5,
   "id": "bcd967e4",
   "metadata": {},
   "outputs": [
    {
     "data": {
      "text/plain": [
       "[1, 2, 3, [5, 6]]"
      ]
     },
     "execution_count": 5,
     "metadata": {},
     "output_type": "execute_result"
    }
   ],
   "source": [
    "a.program_10()"
   ]
  },
  {
   "cell_type": "markdown",
   "id": "2c2fc80a",
   "metadata": {},
   "source": [
    "### 11.\tWrite a Python program to Count occurrences of an element in a list?"
   ]
  },
  {
   "cell_type": "code",
   "execution_count": 8,
   "id": "698effa9",
   "metadata": {},
   "outputs": [],
   "source": [
    "#Initializing the class again with an empty list\n",
    "\n",
    "b = assignment_10([1,2,3,3,4,5,3,4])"
   ]
  },
  {
   "cell_type": "code",
   "execution_count": 10,
   "id": "85ee971c",
   "metadata": {},
   "outputs": [
    {
     "data": {
      "text/plain": [
       "2"
      ]
     },
     "execution_count": 10,
     "metadata": {},
     "output_type": "execute_result"
    }
   ],
   "source": [
    "b.program_11(4)"
   ]
  }
 ],
 "metadata": {
  "kernelspec": {
   "display_name": "Python 3 (ipykernel)",
   "language": "python",
   "name": "python3"
  },
  "language_info": {
   "codemirror_mode": {
    "name": "ipython",
    "version": 3
   },
   "file_extension": ".py",
   "mimetype": "text/x-python",
   "name": "python",
   "nbconvert_exporter": "python",
   "pygments_lexer": "ipython3",
   "version": "3.9.7"
  }
 },
 "nbformat": 4,
 "nbformat_minor": 5
}

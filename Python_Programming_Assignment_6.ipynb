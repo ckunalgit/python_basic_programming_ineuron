{
 "cells": [
  {
   "cell_type": "markdown",
   "id": "a43b9e8e",
   "metadata": {},
   "source": [
    "# Python_Programming_Assignment : Assignment_6"
   ]
  },
  {
   "cell_type": "markdown",
   "id": "a6c8254f",
   "metadata": {},
   "source": [
    "### Write a Python Program to Display Fibonacci Sequence Using Recursion?\n"
   ]
  },
  {
   "cell_type": "code",
   "execution_count": 2,
   "id": "d7a5bebb",
   "metadata": {},
   "outputs": [
    {
     "name": "stdout",
     "output_type": "stream",
     "text": [
      "Enter number of terms required to generate Fibonacci: 10\n",
      "Fibonacci sequence:\n",
      "0\n",
      "1\n",
      "1\n",
      "2\n",
      "3\n",
      "5\n",
      "8\n",
      "13\n",
      "21\n",
      "34\n"
     ]
    }
   ],
   "source": [
    "a = int(input('Enter number of terms required to generate Fibonacci: '))\n",
    "\n",
    "def fibo_recur(n):\n",
    "    '''This is a recursion method for generating a Fibonacci sequence'''\n",
    "    if n <= 1:\n",
    "        return n\n",
    "    else:\n",
    "        return(fibo_recur(n-1) + fibo_recur(n-2))\n",
    "\n",
    "\n",
    "# check if the number of terms is valid\n",
    "if a <= 0:\n",
    "    print(\"Plese enter a positive integer\")\n",
    "else:\n",
    "    print(\"Fibonacci sequence:\")\n",
    "    for i in range(a):\n",
    "        print(fibo_recur(i))"
   ]
  },
  {
   "cell_type": "markdown",
   "id": "5a9494d7",
   "metadata": {},
   "source": [
    "### Write a Python Program to Find Factorial of Number Using Recursion?\n"
   ]
  },
  {
   "cell_type": "code",
   "execution_count": 4,
   "id": "2b744411",
   "metadata": {},
   "outputs": [
    {
     "name": "stdout",
     "output_type": "stream",
     "text": [
      "Enter a number: 5\n",
      "\n",
      "Fatorial of  5 is  120\n"
     ]
    }
   ],
   "source": [
    "a = int(input('Enter a number: '))\n",
    "\n",
    "def fact_recur(n):\n",
    "    '''This program generates the factorial of a number using recursion'''\n",
    "    \n",
    "    if n <= 1:\n",
    "        return n\n",
    "    \n",
    "    if n > 0:\n",
    "        return (n*fact_recur(n-1))\n",
    "\n",
    "if a < 0:\n",
    "    print('Please enter a posiive integer')\n",
    "else:\n",
    "    for i in range(1,a+1):\n",
    "        x = fact_recur(i)\n",
    "        \n",
    "        \n",
    "print('\\nFatorial of ',a,'is ',x)"
   ]
  },
  {
   "cell_type": "markdown",
   "id": "81bb262c",
   "metadata": {},
   "source": [
    "### Write a Python Program to calculate your Body Mass Index?\n"
   ]
  },
  {
   "cell_type": "code",
   "execution_count": 14,
   "id": "02cc335d",
   "metadata": {},
   "outputs": [
    {
     "name": "stdout",
     "output_type": "stream",
     "text": [
      "Enter height of individual in cm 165\n",
      "Enter weight of individual in kg 75\n",
      "\n",
      "BMI is  27.548209366391188 kg/m2\n"
     ]
    }
   ],
   "source": [
    "height = int(input('Enter height of individual in cm '))\n",
    "weight = int(input('Enter weight of individual in kg '))\n",
    "\n",
    "def bmi(a,b):\n",
    "    '''This program calculates BMI'''\n",
    "    \n",
    "    return b/((a/100)**2)\n",
    "\n",
    "print ('\\nBMI is ',bmi(height,weight),'kg/m2')"
   ]
  },
  {
   "cell_type": "markdown",
   "id": "848bdf95",
   "metadata": {},
   "source": [
    "### Write a Python Program to calculate the natural logarithm of any number?\n"
   ]
  },
  {
   "cell_type": "code",
   "execution_count": 2,
   "id": "3154ca7e",
   "metadata": {},
   "outputs": [
    {
     "name": "stdout",
     "output_type": "stream",
     "text": [
      "Enter a number to find its natural log 10\n",
      "\n",
      "Natural logarithm of  10 is  2.302585092994046\n"
     ]
    }
   ],
   "source": [
    "import math\n",
    "\n",
    "num = int(input('Enter a number to find its natural log '))\n",
    "\n",
    "def nat_log(a):\n",
    "    '''This function returns the natural logarithm of any number'''\n",
    "    \n",
    "    return math.log(a)\n",
    "\n",
    "print('\\nNatural logarithm of ',num,'is ',nat_log(num))"
   ]
  },
  {
   "cell_type": "markdown",
   "id": "cfcb20ff",
   "metadata": {},
   "source": [
    "### Write a Python Program for cube sum of first n natural numbers?"
   ]
  },
  {
   "cell_type": "code",
   "execution_count": 9,
   "id": "231abc65",
   "metadata": {},
   "outputs": [
    {
     "name": "stdout",
     "output_type": "stream",
     "text": [
      "Enter the number of natural numbers 4\n",
      "\n",
      "Sum of cubes of 4 natural numbers are 100\n"
     ]
    }
   ],
   "source": [
    "a = int(input('Enter the number of natural numbers '))\n",
    "\n",
    "def cubesum(n):\n",
    "    '''This function gives the sum of the cube of first n' natural numbers'''\n",
    "    \n",
    "    if n == 0:\n",
    "        print('Please enter a number greater than 0')\n",
    "    else:\n",
    "        lst = [i**3 for i in range(1,n+1)]\n",
    "        sum = 0\n",
    "        for i in lst:\n",
    "            sum = sum + i\n",
    "        \n",
    "        return sum\n",
    "        \n",
    "\n",
    "print('\\nSum of cubes of',a,'natural numbers are',cubesum(a))\n",
    "    \n",
    "    "
   ]
  }
 ],
 "metadata": {
  "kernelspec": {
   "display_name": "Python 3 (ipykernel)",
   "language": "python",
   "name": "python3"
  },
  "language_info": {
   "codemirror_mode": {
    "name": "ipython",
    "version": 3
   },
   "file_extension": ".py",
   "mimetype": "text/x-python",
   "name": "python",
   "nbconvert_exporter": "python",
   "pygments_lexer": "ipython3",
   "version": "3.9.7"
  }
 },
 "nbformat": 4,
 "nbformat_minor": 5
}

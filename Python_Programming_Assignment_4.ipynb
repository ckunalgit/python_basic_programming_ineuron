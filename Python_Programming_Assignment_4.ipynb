{
 "cells": [
  {
   "cell_type": "markdown",
   "id": "f14c24f8",
   "metadata": {},
   "source": [
    "# Python_Programming_Assignment : Assignment_4"
   ]
  },
  {
   "cell_type": "markdown",
   "id": "1a74a622",
   "metadata": {},
   "source": [
    "### Write a Python Program to Find the Factorial of a Number?\n"
   ]
  },
  {
   "cell_type": "code",
   "execution_count": 9,
   "id": "6b2dd24c",
   "metadata": {},
   "outputs": [
    {
     "name": "stdout",
     "output_type": "stream",
     "text": [
      "Enter any number: 5\n"
     ]
    },
    {
     "data": {
      "text/plain": [
       "120"
      ]
     },
     "execution_count": 9,
     "metadata": {},
     "output_type": "execute_result"
    }
   ],
   "source": [
    "a = int(input('Enter any number: '))\n",
    "\n",
    "def factorial(a):\n",
    "    '''This program generates the Factorial of a number'''\n",
    "    b = a-1\n",
    "    while b>0:\n",
    "        a = a*b\n",
    "        b-=1\n",
    "    return a\n",
    "\n",
    "factorial(a)\n"
   ]
  },
  {
   "cell_type": "code",
   "execution_count": 64,
   "id": "4b83f5d4",
   "metadata": {},
   "outputs": [
    {
     "name": "stdout",
     "output_type": "stream",
     "text": [
      "Enter any number: 6\n",
      "\n",
      "Factorial of  6 is  720\n"
     ]
    }
   ],
   "source": [
    "import math\n",
    "\n",
    "a = int(input('Enter any number: '))\n",
    "\n",
    "def factorial_new(a):\n",
    "    fact = math.factorial(a)\n",
    "    return print('\\nFactorial of ',a,'is ',fact)\n",
    "\n",
    "factorial_new(a)"
   ]
  },
  {
   "cell_type": "markdown",
   "id": "73fc203d",
   "metadata": {},
   "source": [
    "### Write a Python Program to Display the multiplication Table?\n"
   ]
  },
  {
   "cell_type": "code",
   "execution_count": 15,
   "id": "3584cabc",
   "metadata": {},
   "outputs": [
    {
     "name": "stdout",
     "output_type": "stream",
     "text": [
      "Enter the number for which multiplication table is required: 6\n",
      "6  *  1  =  6\n",
      "6  *  2  =  12\n",
      "6  *  3  =  18\n",
      "6  *  4  =  24\n",
      "6  *  5  =  30\n",
      "6  *  6  =  36\n",
      "6  *  7  =  42\n",
      "6  *  8  =  48\n",
      "6  *  9  =  54\n",
      "6  *  10  =  60\n"
     ]
    }
   ],
   "source": [
    "a = int(input('Enter the number for which multiplication table is required: '))\n",
    "\n",
    "def multi(a):\n",
    "    '''This program shows the multiplication table for a number'''\n",
    "    for i in range(1,11):\n",
    "        print(a,' * ',i,' = ',i*a)\n",
    "\n",
    "multi(a)"
   ]
  },
  {
   "cell_type": "markdown",
   "id": "28192f6f",
   "metadata": {},
   "source": [
    "### Write a Python Program to Print the Fibonacci sequence?\n"
   ]
  },
  {
   "cell_type": "code",
   "execution_count": 28,
   "id": "2c707479",
   "metadata": {},
   "outputs": [
    {
     "name": "stdout",
     "output_type": "stream",
     "text": [
      "Enter the range of fibonacci numbers: 10\n",
      "0\n",
      "1\n",
      "1\n",
      "2\n",
      "3\n",
      "5\n",
      "8\n",
      "13\n",
      "21\n",
      "34\n"
     ]
    }
   ],
   "source": [
    "a = int(input('Enter the range of fibonacci numbers: '))\n",
    "\n",
    "def fibo(a):\n",
    "    '''This function gengerates fibonacci sequence for a given number'''\n",
    "    b = 0\n",
    "    c = 1\n",
    "    print(b)\n",
    "    print(c)\n",
    "    for i in range(a-2):\n",
    "        temp = b+c\n",
    "        b = c\n",
    "        c = temp\n",
    "        print(c)\n",
    "\n",
    "fibo(a)"
   ]
  },
  {
   "cell_type": "markdown",
   "id": "3b1c2c77",
   "metadata": {},
   "source": [
    "### Write a Python Program to Check Armstrong Number?\n"
   ]
  },
  {
   "cell_type": "code",
   "execution_count": 77,
   "id": "68c1bf63",
   "metadata": {},
   "outputs": [
    {
     "name": "stdout",
     "output_type": "stream",
     "text": [
      "Enter a number to check for Armstrong number: 370\n",
      "\n",
      "Its an Armstrong number\n"
     ]
    }
   ],
   "source": [
    "a = int(input('Enter a number to check for Armstrong number: '))\n",
    "\n",
    "def armstrong(a):\n",
    "    '''This function checks if a given number is Armstrong or not'''\n",
    "    \n",
    "    x = [(a//(10**i))%10 for i in range(math.ceil(math.log(a, 10))-1, -1, -1)] #This is done to split the integer\n",
    "    \n",
    "    cube_x = [i**3 for i in x] #This creates a new list with all cubes of the elements\n",
    "    sum = 0\n",
    "    for i in range(len(cube_x)):\n",
    "        sum = sum + cube_x[i]\n",
    "\n",
    "    if sum == a:\n",
    "        return print('\\nIts an Armstrong number')\n",
    "    else:\n",
    "        return print('\\nIts not an Armstrong number')\n",
    "\n",
    "armstrong(a)"
   ]
  },
  {
   "cell_type": "markdown",
   "id": "2eae655d",
   "metadata": {},
   "source": [
    "### Write a Python Program to Find Armstrong Number in an Interval?\n"
   ]
  },
  {
   "cell_type": "code",
   "execution_count": 81,
   "id": "54f34129",
   "metadata": {},
   "outputs": [
    {
     "name": "stdout",
     "output_type": "stream",
     "text": [
      "Enter range to check for Armstrong numbers:10\n",
      "[[]]\n"
     ]
    }
   ],
   "source": [
    "a = int(input('Enter range to check for Armstrong numbers:'))\n",
    "\n",
    "def range_yield(a):\n",
    "    for i in range(1,a):\n",
    "        yield i\n",
    "\n",
    "def armstrong_1(a):\n",
    "    '''This function appends Armstrong numbers in a list'''\n",
    "    lst = []\n",
    "    \n",
    "    x = [(a//(10**i))%10 for i in range(math.ceil(math.log(a, 10))-1, -1, -1)] #This is done to split the integer\n",
    "    cube_x = [i**3 for i in x] #This creates a new list with all cubes of the elements\n",
    "    sum = 0\n",
    "    for i in range(len(cube_x)):\n",
    "        sum = sum + cube_x[i]\n",
    "    if sum == a:\n",
    "        lst.append(a)\n",
    "    \n",
    "    return lst\n",
    "        \n",
    "for i in range_yield(a):\n",
    "    lst = []\n",
    "    lst.append(armstrong_1(i))\n",
    "\n",
    "print(lst)"
   ]
  },
  {
   "cell_type": "markdown",
   "id": "73c969a3",
   "metadata": {},
   "source": [
    "### Write a Python Program to Find the Sum of Natural Numbers?"
   ]
  },
  {
   "cell_type": "code",
   "execution_count": 86,
   "id": "e3332032",
   "metadata": {},
   "outputs": [
    {
     "name": "stdout",
     "output_type": "stream",
     "text": [
      "Enter range of natural numbers for which sum is required: 10\n"
     ]
    },
    {
     "data": {
      "text/plain": [
       "55"
      ]
     },
     "execution_count": 86,
     "metadata": {},
     "output_type": "execute_result"
    }
   ],
   "source": [
    "a = int(input('Enter range of natural numbers for which sum is required: '))\n",
    "\n",
    "def sum_natr(a):\n",
    "    '''This function provides the sum of all natural numbers within an interval'''\n",
    "    \n",
    "    sum = 0\n",
    "    for i in range(a+1):\n",
    "        sum = sum + i\n",
    "    \n",
    "    return sum\n",
    "\n",
    "sum_natr(a)"
   ]
  },
  {
   "cell_type": "code",
   "execution_count": null,
   "id": "fee271bd",
   "metadata": {},
   "outputs": [],
   "source": []
  }
 ],
 "metadata": {
  "kernelspec": {
   "display_name": "Python 3 (ipykernel)",
   "language": "python",
   "name": "python3"
  },
  "language_info": {
   "codemirror_mode": {
    "name": "ipython",
    "version": 3
   },
   "file_extension": ".py",
   "mimetype": "text/x-python",
   "name": "python",
   "nbconvert_exporter": "python",
   "pygments_lexer": "ipython3",
   "version": "3.9.7"
  }
 },
 "nbformat": 4,
 "nbformat_minor": 5
}

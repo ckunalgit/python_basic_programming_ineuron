{
 "cells": [
  {
   "cell_type": "markdown",
   "id": "4fc1baa3",
   "metadata": {},
   "source": [
    "## Python_Programming_Assignment : Assignment_14"
   ]
  },
  {
   "cell_type": "markdown",
   "id": "10377e88",
   "metadata": {},
   "source": [
    "### Define a class with a generator which can iterate the numbers, which are divisible by 7, between a given range 0 and n."
   ]
  },
  {
   "cell_type": "code",
   "execution_count": 1,
   "id": "5942c823",
   "metadata": {},
   "outputs": [
    {
     "data": {
      "text/html": [
       "<style type='text/css'>\n",
       ".CodeMirror{\n",
       "font-size: 13px;\n",
       "font-family: Verdana;\n",
       "</style>\n"
      ],
      "text/plain": [
       "<IPython.core.display.HTML object>"
      ]
     },
     "metadata": {},
     "output_type": "display_data"
    }
   ],
   "source": [
    "%%html\n",
    "<style type='text/css'>\n",
    ".CodeMirror{\n",
    "font-size: 13px;\n",
    "font-family: Verdana;\n",
    "</style>"
   ]
  },
  {
   "cell_type": "code",
   "execution_count": 7,
   "id": "6aace683",
   "metadata": {},
   "outputs": [
    {
     "name": "stdout",
     "output_type": "stream",
     "text": [
      "Received on next():  7\n",
      "Received on next():  14\n",
      "Received on next():  21\n",
      "Received on next():  28\n",
      "Index out of range\n"
     ]
    }
   ],
   "source": [
    "class demo():\n",
    "    \n",
    "    def __init__(self,n):\n",
    "        self.n = n\n",
    "        \n",
    "    def gen(self):\n",
    "        for i in range(1,self.n):\n",
    "            if i%7 == 0:  #Check if a number iterating in the range is divisible by 7\n",
    "                yield i  #Generator object\n",
    "                    \n",
    "obj = demo(30)\n",
    "catch = obj.gen()\n",
    "\n",
    "# Iterating through the generator\n",
    "\n",
    "while True:\n",
    "    try:\n",
    "        print('Received on next(): ', next(catch))\n",
    "    except StopIteration:\n",
    "        print('Index out of range')\n",
    "        break\n"
   ]
  },
  {
   "cell_type": "markdown",
   "id": "cebaeb6e",
   "metadata": {},
   "source": [
    "### Write a program to compute the frequency of the words from the input. The output should output after sorting the key alphanumerically. "
   ]
  },
  {
   "cell_type": "code",
   "execution_count": 21,
   "id": "4c366456",
   "metadata": {},
   "outputs": [
    {
     "name": "stdout",
     "output_type": "stream",
     "text": [
      "Enter the sentence: New to Python or choosing between Python 2 and Python 3? Read Python 2 or Python 3\n",
      "2  :  2\n",
      "3  :  1\n",
      "3?  :  1\n",
      "New  :  1\n",
      "Python  :  5\n",
      "Read  :  1\n",
      "and  :  1\n",
      "between  :  1\n",
      "choosing  :  1\n",
      "or  :  2\n",
      "to  :  1\n"
     ]
    }
   ],
   "source": [
    "word = input(\"Enter the sentence: \")\n",
    "\n",
    "def count_word(word):\n",
    "    '''Program to count unique words'''\n",
    "    \n",
    "    lst = word.split()\n",
    "    unique_lst = set(lst) # Filter unique words from the list only\n",
    "    sorted_lst = sorted(unique_lst) # Create a list back of unique sorted words\n",
    "    \n",
    "    dct = {}\n",
    "    for i in sorted_lst:\n",
    "        dct[i] = lst.count(i) # Append the unique words as keys and their counts as values in a dictionary\n",
    "        \n",
    "    return dct\n",
    "    \n",
    "catch = count_word(word)\n",
    "\n",
    "# Print contents of the dictionary\n",
    "\n",
    "for items in catch:\n",
    "    print(items,\" : \",catch[items])"
   ]
  },
  {
   "cell_type": "markdown",
   "id": "37098b38",
   "metadata": {},
   "source": [
    "### Define a class Person and its two child classes: Male and Female. All classes have a method \"getGender\" which can print \"Male\" for Male class and \"Female\" for Female class."
   ]
  },
  {
   "cell_type": "code",
   "execution_count": 7,
   "id": "e7a5a070",
   "metadata": {},
   "outputs": [],
   "source": [
    "# This is an example of polymorphism in Python\n",
    "\n",
    "class Person():\n",
    "    \n",
    "    def getGender(self):\n",
    "        self.getGender()\n",
    "    \n",
    "class Male(Person):\n",
    "        \n",
    "        def getGender(self):\n",
    "            return(\"Male\")\n",
    "        \n",
    "class Female(Person):\n",
    "    \n",
    "    def getGender(self):\n",
    "            return(\"Female\")\n",
    "        \n"
   ]
  },
  {
   "cell_type": "code",
   "execution_count": 8,
   "id": "569b6bc5",
   "metadata": {},
   "outputs": [
    {
     "name": "stdout",
     "output_type": "stream",
     "text": [
      "Male\n"
     ]
    }
   ],
   "source": [
    "obj_m = Male() # Initialise an object of the class Male\n",
    "obj_f = Female() # Initialise an object of the class Male\n",
    "\n",
    "print(obj_m.getGender())"
   ]
  },
  {
   "cell_type": "markdown",
   "id": "9eda20a5",
   "metadata": {},
   "source": [
    "### Please write a program to generate all sentences where subject is in [\"I\", \"You\"] and verb is in [\"Play\", \"Love\"] and the object is in [\"Hockey\",\"Football\"]."
   ]
  },
  {
   "cell_type": "code",
   "execution_count": 5,
   "id": "a1337ea4",
   "metadata": {},
   "outputs": [
    {
     "name": "stdout",
     "output_type": "stream",
     "text": [
      "I Play Hockey\n",
      "I Play Football\n",
      "I Love Hockey\n",
      "I Love Football\n",
      "You Play Hockey\n",
      "You Play Football\n",
      "You Love Hockey\n",
      "You Love Football\n"
     ]
    }
   ],
   "source": [
    "def sequence():\n",
    "    '''Program to generate all possible sequence of sentences with the given lists'''\n",
    "    \n",
    "    sub = [\"I\",\"You\"]\n",
    "    verb = [\"Play\",\"Love\"]\n",
    "    obj = [\"Hockey\",\"Football\"]\n",
    "    \n",
    "    lst = []\n",
    "    \n",
    "    for i in sub:\n",
    "        for j in verb:\n",
    "            for k in obj:\n",
    "                sent = i+' '+j+' '+k\n",
    "                lst.append(sent)\n",
    "    \n",
    "    return lst\n",
    "\n",
    "catch = sequence()\n",
    "for i in catch:\n",
    "    print(i)"
   ]
  },
  {
   "cell_type": "markdown",
   "id": "f47a0218",
   "metadata": {},
   "source": [
    "### Please write a program to compress and decompress the string \"hello world!hello world!hello world!hello world!\"."
   ]
  },
  {
   "cell_type": "code",
   "execution_count": 14,
   "id": "1c40a676",
   "metadata": {},
   "outputs": [
    {
     "name": "stdout",
     "output_type": "stream",
     "text": [
      "Size of string size_of\n",
      "Size of string after compression is  56\n",
      "Size of string after decompression is  81\n"
     ]
    }
   ],
   "source": [
    "import sys\n",
    "import zlib\n",
    "\n",
    "# Declare string in binary mode to avoid any issues\n",
    "dori = b\"hello world!hello world!hello world!hello world!\"\n",
    "\n",
    "# Check size of the srting before compression\n",
    "size_of = sys.getsizeof(dori)\n",
    "print('Size of string size_of')\n",
    "\n",
    "# Compress the string using zlib library\n",
    "cmprss = zlib.compress(dori)\n",
    "\n",
    "print('Size of string after compression is ',sys.getsizeof(cmprss))\n",
    "\n",
    "\n",
    "# Decompress the string using zlib library\n",
    "Dcmprss = zlib.decompress(cmprss)\n",
    "\n",
    "print('Size of string after decompression is ',sys.getsizeof(Dcmprss))"
   ]
  },
  {
   "cell_type": "markdown",
   "id": "2906fa02",
   "metadata": {},
   "source": [
    "### Please write a binary search function which searches an item in a sorted list. The function should return the index of element to be searched in the list."
   ]
  },
  {
   "cell_type": "code",
   "execution_count": 6,
   "id": "bedbd5e8",
   "metadata": {},
   "outputs": [
    {
     "name": "stdout",
     "output_type": "stream",
     "text": [
      "Enter your guess as an integer: 11\n",
      "Index of searched number is  7\n"
     ]
    }
   ],
   "source": [
    "orig_list = [8,12,15,3,91,43,64,11,7]\n",
    "\n",
    "def sort_list(a):\n",
    "    '''This function returns a sorted list'''\n",
    "    \n",
    "    try:\n",
    "        new_list = sorted(a)\n",
    "        return new_list # Sort the given list\n",
    "    except AttributeError:\n",
    "        return ('Please enter list only as input')\n",
    "    \n",
    "\n",
    "def binsearch(lst,obj):\n",
    "    '''This function performs binary search'''\n",
    "    \n",
    "    start = 0 # Starting point of binary search\n",
    "    end = len(lst) #Ending point of binary search\n",
    "    count = 0 # Initialise a variable if element is not in list\n",
    "    mid = int((start+end)/2)\n",
    "        \n",
    "    while obj in lst:\n",
    "        mid = int((start+end)/2)\n",
    "        \n",
    "        if lst[mid] == obj: # If guess matches break the loop\n",
    "            count = 1\n",
    "            break\n",
    "        elif lst[mid] < obj: # If guess is more than the element in middle of list, set starting index at mid\n",
    "            start = mid\n",
    "        elif lst[mid] > obj: # If guess is less than the element in middle of list, set ending of index at mid+1\n",
    "            end = mid + 1\n",
    "       \n",
    "    return (lst[mid],count)\n",
    "\n",
    "guess = int(input('Enter your guess as an integer: '))\n",
    "\n",
    "sortd = sort_list(orig_list) # This is the sorted list\n",
    "element,count = binsearch(sortd,guess)\n",
    "\n",
    "if count == 0:\n",
    "    print(\"Element is not in list.\")\n",
    "else:\n",
    "    for i in orig_list:\n",
    "        if i == element:\n",
    "            print('Index of searched number is ',orig_list.index(i))"
   ]
  }
 ],
 "metadata": {
  "kernelspec": {
   "display_name": "Python 3 (ipykernel)",
   "language": "python",
   "name": "python3"
  },
  "language_info": {
   "codemirror_mode": {
    "name": "ipython",
    "version": 3
   },
   "file_extension": ".py",
   "mimetype": "text/x-python",
   "name": "python",
   "nbconvert_exporter": "python",
   "pygments_lexer": "ipython3",
   "version": "3.9.7"
  }
 },
 "nbformat": 4,
 "nbformat_minor": 5
}
